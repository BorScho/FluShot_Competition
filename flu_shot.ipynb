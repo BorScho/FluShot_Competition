{
 "cells": [
  {
   "cell_type": "markdown",
   "metadata": {},
   "source": [
    "Source https://www.drivendata.org/competitions/66/flu-shot-learning/page/211/\n",
    "\n",
    "## Problem description ##\n",
    "Your goal is to predict how likely individuals are to receive their H1N1 and seasonal flu vaccines. Specifically, you'll be predicting two probabilities: <br>\n",
    "one for h1n1_vaccine and one for seasonal_vaccine.<br>\n",
    "<br>\n",
    "Each row in the dataset represents one person who responded to the National 2009 H1N1 Flu Survey.<br>\n",
    "<br>"
   ]
  },
  {
   "cell_type": "markdown",
   "metadata": {},
   "source": [
    "### Labels ###\n",
    "For this competition, there are two target variables:<br>\n",
    "<br>\n",
    "h1n1_vaccine - Whether respondent received H1N1 flu vaccine.<br>\n",
    "seasonal_vaccine - Whether respondent received seasonal flu vaccine.<br>\n",
    "Both are binary variables: 0 = No; 1 = Yes. Some respondents didn't get either vaccine, others got only one, and some got both. <br>\n",
    "This is formulated as a multilabel (and not multiclass) problem.<br>\n",
    "<br>\n",
    "<br>\n",
    "### The features in this dataset ###\n",
    "You are provided a dataset with 36 columns. The first column respondent_id is a unique and random identifier. The remaining 35 features are described below.<br>\n",
    "<br>\n",
    "For all binary variables: 0 = No; 1 = Yes.<br>\n",
    "<br>\n",
    "h1n1_concern - Level of concern about the H1N1 flu.<br>\n",
    "0 = Not at all concerned; 1 = Not very concerned; 2 = Somewhat concerned; 3 = Very concerned.<br>\n",
    " <br>\n",
    "h1n1_knowledge - Level of knowledge about H1N1 flu.<br>\n",
    "0 = No knowledge; 1 = A little knowledge; 2 = A lot of knowledge.<br>\n",
    " <br>\n",
    "behavioral_antiviral_meds - Has taken antiviral medications. (binary)<br>\n",
    "behavioral_avoidance - Has avoided close contact with others with flu-like symptoms. (binary)<br>\n",
    "behavioral_face_mask - Has bought a face mask. (binary)<br>\n",
    "behavioral_wash_hands - Has frequently washed hands or used hand sanitizer. (binary)<br>\n",
    "behavioral_large_gatherings - Has reduced time at large gatherings. (binary)<br>\n",
    "behavioral_outside_home - Has reduced contact with people outside of own household. (binary)<br>\n",
    "behavioral_touch_face - Has avoided touching eyes, nose, or mouth. (binary)<br>\n",
    "doctor_recc_h1n1 - H1N1 flu vaccine was recommended by doctor. (binary)<br>\n",
    "doctor_recc_seasonal - Seasonal flu vaccine was recommended by doctor. (binary)<br>\n",
    "chronic_med_condition - Has any of the following chronic medical conditions:  <br>\n",
    "asthma or an other lung condition, diabetes, a heart condition, a kidney condition, sickle cell anemia or other anemia, a neurological or neuromuscular condition, a liver condition, or a weakened immune system caused by a chronic illness or by medicines taken for a chronic illness. (binary) <br>\n",
    "child_under_6_months - Has regular close contact with a child under the age of six months. (binary) <br>\n",
    "health_worker - Is a healthcare worker. (binary) <br>\n",
    "health_insurance - Has health insurance. (binary) <br>\n",
    "<br>\n",
    "opinion_h1n1_vacc_effective - Respondent's opinion about H1N1 vaccine effectiveness. <br>\n",
    "1 = Not at all effective; 2 = Not very effective; 3 = Don't know; 4 = Somewhat effective; 5 = Very effective. <br>\n",
    " <br>\n",
    "opinion_h1n1_risk - Respondent's opinion about risk of getting sick with H1N1 flu without vaccine. <br>\n",
    "1 = Very Low; 2 = Somewhat low; 3 = Don't know; 4 = Somewhat high; 5 = Very high. <br>\n",
    " <br>\n",
    "opinion_h1n1_sick_from_vacc - Respondent's worry of getting sick from taking H1N1 vaccine. <br>\n",
    "1 = Not at all worried; 2 = Not very worried; 3 = Don't know; 4 = Somewhat worried; 5 = Very worried. <br>\n",
    " <br>\n",
    "opinion_seas_vacc_effective - Respondent's opinion about seasonal flu vaccine effectiveness. <br>\n",
    "1 = Not at all effective; 2 = Not very effective; 3 = Don't know; 4 = Somewhat effective; 5 = Very effective. <br>\n",
    " <br>\n",
    "opinion_seas_risk - Respondent's opinion about risk of getting sick with seasonal flu without vaccine. <br>\n",
    "1 = Very Low; 2 = Somewhat low; 3 = Don't know; 4 = Somewhat high; 5 = Very high. <br>\n",
    " <br>\n",
    "opinion_seas_sick_from_vacc - Respondent's worry of getting sick from taking seasonal flu vaccine. <br>\n",
    "1 = Not at all worried; 2 = Not very worried; 3 = Don't know; 4 = Somewhat worried; 5 = Very worried. <br>\n",
    " <br>\n",
    "age_group - Age group of respondent. <br>\n",
    "education - Self-reported education level. <br>\n",
    "race - Race of respondent. <br>\n",
    "sex - Sex of respondent. <br>\n",
    "income_poverty - Household annual income of respondent with respect to 2008 Census poverty thresholds. <br>\n",
    "marital_status - Marital status of respondent. <br>\n",
    "rent_or_own - Housing situation of respondent. <br>\n",
    "employment_status - Employment status of respondent. <br>\n",
    "hhs_geo_region - Respondent's residence using a 10-region geographic classification defined by the U.S. Dept. of Health and Human Services. Values are represented as short random character strings. <br>\n",
    "census_msa - Respondent's residence within metropolitan statistical areas (MSA) as defined by the U.S. Census. <br>\n",
    "household_adults - Number of other adults in household, top-coded to 3. <br>\n",
    "household_children - Number of children in household, top-coded to 3. <br>\n",
    "employment_industry - Type of industry respondent is employed in. Values are represented as short random character strings. <br>\n",
    "employment_occupation - Type of occupation of respondent. Values are represented as short random character strings. <br>\n",
    "\n",
    "### Performance metric ###\n",
    "Performance will be evaluated according to the area under the receiver operating characteristic curve (ROC AUC) for each of the two target variables. <br>\n",
    "The mean of these two scores will be the overall score. A higher value indicates stronger performance. <br>\n",
    "<br>\n",
    "In Python, you can calculate this using sklearn.metrics.roc_auc_score for this multilabel setup with the default average=\"macro\" parameter. <br>\n",
    " <br>"
   ]
  },
  {
   "cell_type": "code",
   "execution_count": 1,
   "metadata": {},
   "outputs": [],
   "source": [
    "import pandas as pd\n",
    "import numpy as np\n",
    "from sklearn.preprocessing import StandardScaler\n",
    "from sklearn.impute import SimpleImputer\n",
    "from sklearn.compose import ColumnTransformer\n",
    "\n",
    "from sklearn.linear_model import LogisticRegression\n",
    "from sklearn.multioutput import MultiOutputClassifier\n",
    "\n",
    "from sklearn.pipeline import Pipeline\n",
    "\n",
    "from sklearn.model_selection import train_test_split\n",
    "from sklearn.metrics import roc_curve, roc_auc_score\n",
    "\n",
    "from sklearn.svm import SVC\n",
    "\n",
    "%matplotlib inline\n",
    "import matplotlib.pyplot as plt\n",
    "from sklearn.metrics import accuracy_score"
   ]
  },
  {
   "cell_type": "code",
   "execution_count": 2,
   "metadata": {},
   "outputs": [],
   "source": [
    "# read the csv-files and take the respondent_id column as index:\n",
    "\n",
    "X_train_df = pd.read_csv(\"training_set_features.csv\", index_col=\"respondent_id\")\n",
    "y_train_df = pd.read_csv(\"training_set_labels.csv\", index_col=\"respondent_id\")\n",
    "X_test_df = pd.read_csv(\"test_set_features.csv\", index_col=\"respondent_id\")\n",
    "\n",
    "#X_train_df.shape\n",
    "# Output:\n",
    "# (26707, 36)\n",
    "\n",
    "#X_test_df.shape\n",
    "# out:\n",
    "# (26708, 36)"
   ]
  },
  {
   "cell_type": "code",
   "execution_count": 10,
   "metadata": {},
   "outputs": [],
   "source": [
    "#check sorting and completeness of respondent_id's in train and test data:\n",
    "np.testing.assert_array_equal(X_train_df.index.values, y_train_df.index.values)\n",
    "\n",
    "# out: \n",
    "# no output means the arrays are equal, otherwize an error would be risen."
   ]
  },
  {
   "cell_type": "markdown",
   "metadata": {},
   "source": [
    "#### Usefull Functions ####"
   ]
  },
  {
   "cell_type": "code",
   "execution_count": 8,
   "metadata": {},
   "outputs": [],
   "source": [
    "def plot_roc(y_true, y_score, label_name, ax):\n",
    "    fpr, tpr, thresholds = roc_curve(y_true, y_score)\n",
    "    ax.plot(fpr, tpr)\n",
    "    ax.plot([0,1],[0,1], color=\"grey\", linestyle=\"--\")\n",
    "    ax.set_ylabel(\"TPR\")\n",
    "    ax.set_xlabel(\"FPR\")\n",
    "    ax.set_title(f\"{label_name}: AUC = {roc_auc_score(y_true, y_score):.4f}\")"
   ]
  },
  {
   "cell_type": "code",
   "execution_count": 9,
   "metadata": {},
   "outputs": [],
   "source": [
    "def plot_roc_h1n1_and_seasonal():\n",
    "    fig, ax = plt.subplots(1,2,figsize=(7, 3.5))\n",
    "\n",
    "    plot_roc(\n",
    "        y_eval[\"h1n1_vaccine\"],\n",
    "        y_preds[\"h1n1_vaccine\"],\n",
    "        \"h1n1_vaccine\",\n",
    "        ax=ax[0]\n",
    "    )\n",
    "\n",
    "    plot_roc(\n",
    "        y_eval[\"seasonal_vaccine\"],\n",
    "        y_preds[\"seasonal_vaccine\"],\n",
    "        \"seasonal_vaccine\",\n",
    "        ax=ax[1]\n",
    "    )\n",
    "\n",
    "    fig.tight_layout()"
   ]
  },
  {
   "cell_type": "markdown",
   "metadata": {},
   "source": [
    "#### Look at the Table ####"
   ]
  },
  {
   "cell_type": "code",
   "execution_count": 3,
   "metadata": {},
   "outputs": [
    {
     "data": {
      "text/html": [
       "<div>\n",
       "<style scoped>\n",
       "    .dataframe tbody tr th:only-of-type {\n",
       "        vertical-align: middle;\n",
       "    }\n",
       "\n",
       "    .dataframe tbody tr th {\n",
       "        vertical-align: top;\n",
       "    }\n",
       "\n",
       "    .dataframe thead th {\n",
       "        text-align: right;\n",
       "    }\n",
       "</style>\n",
       "<table border=\"1\" class=\"dataframe\">\n",
       "  <thead>\n",
       "    <tr style=\"text-align: right;\">\n",
       "      <th></th>\n",
       "      <th>h1n1_concern</th>\n",
       "      <th>h1n1_knowledge</th>\n",
       "      <th>behavioral_antiviral_meds</th>\n",
       "      <th>behavioral_avoidance</th>\n",
       "      <th>behavioral_face_mask</th>\n",
       "      <th>behavioral_wash_hands</th>\n",
       "      <th>behavioral_large_gatherings</th>\n",
       "      <th>behavioral_outside_home</th>\n",
       "      <th>behavioral_touch_face</th>\n",
       "      <th>doctor_recc_h1n1</th>\n",
       "      <th>...</th>\n",
       "      <th>income_poverty</th>\n",
       "      <th>marital_status</th>\n",
       "      <th>rent_or_own</th>\n",
       "      <th>employment_status</th>\n",
       "      <th>hhs_geo_region</th>\n",
       "      <th>census_msa</th>\n",
       "      <th>household_adults</th>\n",
       "      <th>household_children</th>\n",
       "      <th>employment_industry</th>\n",
       "      <th>employment_occupation</th>\n",
       "    </tr>\n",
       "    <tr>\n",
       "      <th>respondent_id</th>\n",
       "      <th></th>\n",
       "      <th></th>\n",
       "      <th></th>\n",
       "      <th></th>\n",
       "      <th></th>\n",
       "      <th></th>\n",
       "      <th></th>\n",
       "      <th></th>\n",
       "      <th></th>\n",
       "      <th></th>\n",
       "      <th></th>\n",
       "      <th></th>\n",
       "      <th></th>\n",
       "      <th></th>\n",
       "      <th></th>\n",
       "      <th></th>\n",
       "      <th></th>\n",
       "      <th></th>\n",
       "      <th></th>\n",
       "      <th></th>\n",
       "      <th></th>\n",
       "    </tr>\n",
       "  </thead>\n",
       "  <tbody>\n",
       "    <tr>\n",
       "      <th>0</th>\n",
       "      <td>1.0</td>\n",
       "      <td>0.0</td>\n",
       "      <td>0.0</td>\n",
       "      <td>0.0</td>\n",
       "      <td>0.0</td>\n",
       "      <td>0.0</td>\n",
       "      <td>0.0</td>\n",
       "      <td>1.0</td>\n",
       "      <td>1.0</td>\n",
       "      <td>0.0</td>\n",
       "      <td>...</td>\n",
       "      <td>Below Poverty</td>\n",
       "      <td>Not Married</td>\n",
       "      <td>Own</td>\n",
       "      <td>Not in Labor Force</td>\n",
       "      <td>oxchjgsf</td>\n",
       "      <td>Non-MSA</td>\n",
       "      <td>0.0</td>\n",
       "      <td>0.0</td>\n",
       "      <td>NaN</td>\n",
       "      <td>NaN</td>\n",
       "    </tr>\n",
       "    <tr>\n",
       "      <th>1</th>\n",
       "      <td>3.0</td>\n",
       "      <td>2.0</td>\n",
       "      <td>0.0</td>\n",
       "      <td>1.0</td>\n",
       "      <td>0.0</td>\n",
       "      <td>1.0</td>\n",
       "      <td>0.0</td>\n",
       "      <td>1.0</td>\n",
       "      <td>1.0</td>\n",
       "      <td>0.0</td>\n",
       "      <td>...</td>\n",
       "      <td>Below Poverty</td>\n",
       "      <td>Not Married</td>\n",
       "      <td>Rent</td>\n",
       "      <td>Employed</td>\n",
       "      <td>bhuqouqj</td>\n",
       "      <td>MSA, Not Principle  City</td>\n",
       "      <td>0.0</td>\n",
       "      <td>0.0</td>\n",
       "      <td>pxcmvdjn</td>\n",
       "      <td>xgwztkwe</td>\n",
       "    </tr>\n",
       "    <tr>\n",
       "      <th>2</th>\n",
       "      <td>1.0</td>\n",
       "      <td>1.0</td>\n",
       "      <td>0.0</td>\n",
       "      <td>1.0</td>\n",
       "      <td>0.0</td>\n",
       "      <td>0.0</td>\n",
       "      <td>0.0</td>\n",
       "      <td>0.0</td>\n",
       "      <td>0.0</td>\n",
       "      <td>NaN</td>\n",
       "      <td>...</td>\n",
       "      <td>&lt;= $75,000, Above Poverty</td>\n",
       "      <td>Not Married</td>\n",
       "      <td>Own</td>\n",
       "      <td>Employed</td>\n",
       "      <td>qufhixun</td>\n",
       "      <td>MSA, Not Principle  City</td>\n",
       "      <td>2.0</td>\n",
       "      <td>0.0</td>\n",
       "      <td>rucpziij</td>\n",
       "      <td>xtkaffoo</td>\n",
       "    </tr>\n",
       "  </tbody>\n",
       "</table>\n",
       "<p>3 rows × 35 columns</p>\n",
       "</div>"
      ],
      "text/plain": [
       "               h1n1_concern  h1n1_knowledge  behavioral_antiviral_meds  \\\n",
       "respondent_id                                                            \n",
       "0                       1.0             0.0                        0.0   \n",
       "1                       3.0             2.0                        0.0   \n",
       "2                       1.0             1.0                        0.0   \n",
       "\n",
       "               behavioral_avoidance  behavioral_face_mask  \\\n",
       "respondent_id                                               \n",
       "0                               0.0                   0.0   \n",
       "1                               1.0                   0.0   \n",
       "2                               1.0                   0.0   \n",
       "\n",
       "               behavioral_wash_hands  behavioral_large_gatherings  \\\n",
       "respondent_id                                                       \n",
       "0                                0.0                          0.0   \n",
       "1                                1.0                          0.0   \n",
       "2                                0.0                          0.0   \n",
       "\n",
       "               behavioral_outside_home  behavioral_touch_face  \\\n",
       "respondent_id                                                   \n",
       "0                                  1.0                    1.0   \n",
       "1                                  1.0                    1.0   \n",
       "2                                  0.0                    0.0   \n",
       "\n",
       "               doctor_recc_h1n1  ...             income_poverty  \\\n",
       "respondent_id                    ...                              \n",
       "0                           0.0  ...              Below Poverty   \n",
       "1                           0.0  ...              Below Poverty   \n",
       "2                           NaN  ...  <= $75,000, Above Poverty   \n",
       "\n",
       "               marital_status  rent_or_own   employment_status  \\\n",
       "respondent_id                                                    \n",
       "0                 Not Married          Own  Not in Labor Force   \n",
       "1                 Not Married         Rent            Employed   \n",
       "2                 Not Married          Own            Employed   \n",
       "\n",
       "               hhs_geo_region                census_msa  household_adults  \\\n",
       "respondent_id                                                               \n",
       "0                    oxchjgsf                   Non-MSA               0.0   \n",
       "1                    bhuqouqj  MSA, Not Principle  City               0.0   \n",
       "2                    qufhixun  MSA, Not Principle  City               2.0   \n",
       "\n",
       "               household_children  employment_industry  employment_occupation  \n",
       "respondent_id                                                                  \n",
       "0                             0.0                  NaN                    NaN  \n",
       "1                             0.0             pxcmvdjn               xgwztkwe  \n",
       "2                             0.0             rucpziij               xtkaffoo  \n",
       "\n",
       "[3 rows x 35 columns]"
      ]
     },
     "execution_count": 3,
     "metadata": {},
     "output_type": "execute_result"
    }
   ],
   "source": [
    "X_train_df.head(3)"
   ]
  },
  {
   "cell_type": "code",
   "execution_count": 4,
   "metadata": {},
   "outputs": [
    {
     "data": {
      "text/html": [
       "<div>\n",
       "<style scoped>\n",
       "    .dataframe tbody tr th:only-of-type {\n",
       "        vertical-align: middle;\n",
       "    }\n",
       "\n",
       "    .dataframe tbody tr th {\n",
       "        vertical-align: top;\n",
       "    }\n",
       "\n",
       "    .dataframe thead th {\n",
       "        text-align: right;\n",
       "    }\n",
       "</style>\n",
       "<table border=\"1\" class=\"dataframe\">\n",
       "  <thead>\n",
       "    <tr style=\"text-align: right;\">\n",
       "      <th></th>\n",
       "      <th>h1n1_vaccine</th>\n",
       "      <th>seasonal_vaccine</th>\n",
       "    </tr>\n",
       "    <tr>\n",
       "      <th>respondent_id</th>\n",
       "      <th></th>\n",
       "      <th></th>\n",
       "    </tr>\n",
       "  </thead>\n",
       "  <tbody>\n",
       "    <tr>\n",
       "      <th>0</th>\n",
       "      <td>0</td>\n",
       "      <td>0</td>\n",
       "    </tr>\n",
       "    <tr>\n",
       "      <th>1</th>\n",
       "      <td>0</td>\n",
       "      <td>1</td>\n",
       "    </tr>\n",
       "    <tr>\n",
       "      <th>2</th>\n",
       "      <td>0</td>\n",
       "      <td>0</td>\n",
       "    </tr>\n",
       "  </tbody>\n",
       "</table>\n",
       "</div>"
      ],
      "text/plain": [
       "               h1n1_vaccine  seasonal_vaccine\n",
       "respondent_id                                \n",
       "0                         0                 0\n",
       "1                         0                 1\n",
       "2                         0                 0"
      ]
     },
     "execution_count": 4,
     "metadata": {},
     "output_type": "execute_result"
    }
   ],
   "source": [
    "y_train_df.head(3)"
   ]
  },
  {
   "cell_type": "code",
   "execution_count": 5,
   "metadata": {},
   "outputs": [
    {
     "name": "stdout",
     "output_type": "stream",
     "text": [
      "(26707, 35)\n",
      "(26707, 2)\n",
      "(26708, 35)\n",
      "h1n1_concern                   float64\n",
      "h1n1_knowledge                 float64\n",
      "behavioral_antiviral_meds      float64\n",
      "behavioral_avoidance           float64\n",
      "behavioral_face_mask           float64\n",
      "behavioral_wash_hands          float64\n",
      "behavioral_large_gatherings    float64\n",
      "behavioral_outside_home        float64\n",
      "behavioral_touch_face          float64\n",
      "doctor_recc_h1n1               float64\n",
      "doctor_recc_seasonal           float64\n",
      "chronic_med_condition          float64\n",
      "child_under_6_months           float64\n",
      "health_worker                  float64\n",
      "health_insurance               float64\n",
      "opinion_h1n1_vacc_effective    float64\n",
      "opinion_h1n1_risk              float64\n",
      "opinion_h1n1_sick_from_vacc    float64\n",
      "opinion_seas_vacc_effective    float64\n",
      "opinion_seas_risk              float64\n",
      "opinion_seas_sick_from_vacc    float64\n",
      "age_group                       object\n",
      "education                       object\n",
      "race                            object\n",
      "sex                             object\n",
      "income_poverty                  object\n",
      "marital_status                  object\n",
      "rent_or_own                     object\n",
      "employment_status               object\n",
      "hhs_geo_region                  object\n",
      "census_msa                      object\n",
      "household_adults               float64\n",
      "household_children             float64\n",
      "employment_industry             object\n",
      "employment_occupation           object\n",
      "dtype: object\n"
     ]
    }
   ],
   "source": [
    "print(X_train_df.shape)\n",
    "print(y_train_df.shape)\n",
    "print(X_test_df.shape)\n",
    "print(X_train_df.dtypes)"
   ]
  },
  {
   "cell_type": "markdown",
   "metadata": {},
   "source": [
    "### Data Exploration ###"
   ]
  },
  {
   "cell_type": "code",
   "execution_count": 38,
   "metadata": {},
   "outputs": [],
   "source": [
    "%matplotlib inline\n",
    "import matplotlib.pyplot as plt"
   ]
  },
  {
   "cell_type": "code",
   "execution_count": 41,
   "metadata": {},
   "outputs": [
    {
     "data": {
      "image/png": "[encoded data removed]",
      "text/plain": [
       "<Figure size 432x288 with 2 Axes>"
      ]
     },
     "metadata": {
      "needs_background": "light"
     },
     "output_type": "display_data"
    }
   ],
   "source": [
    "fig, ax = plt.subplots(2,1, sharex=True)\n",
    "\n",
    "n_obs = y_train_df.shape[0]\n",
    "\n",
    "y_train_df['h1n1_vaccine'].value_counts().div(n_obs).plot.barh(title='Proportion of H1N1 vaccines', ax=ax[0])\n",
    "\n",
    "ax[0].set_ylabel('h1n1_vaccine')\n",
    "\n",
    "y_train_df['seasonal_vaccine'].value_counts().div(n_obs).plot.barh(title=\"Proportion of seasonal vaccines\", ax=ax[1])\n",
    "\n",
    "ax[1].set_ylabel('seasonal vaccine')\n",
    "\n",
    "fig.tight_layout()\n"
   ]
  },
  {
   "cell_type": "code",
   "execution_count": 47,
   "metadata": {},
   "outputs": [
    {
     "data": {
      "text/html": [
       "<div>\n",
       "<style scoped>\n",
       "    .dataframe tbody tr th:only-of-type {\n",
       "        vertical-align: middle;\n",
       "    }\n",
       "\n",
       "    .dataframe tbody tr th {\n",
       "        vertical-align: top;\n",
       "    }\n",
       "\n",
       "    .dataframe thead th {\n",
       "        text-align: right;\n",
       "    }\n",
       "</style>\n",
       "<table border=\"1\" class=\"dataframe\">\n",
       "  <thead>\n",
       "    <tr style=\"text-align: right;\">\n",
       "      <th>seasonal_vaccine</th>\n",
       "      <th>0</th>\n",
       "      <th>1</th>\n",
       "      <th>All</th>\n",
       "    </tr>\n",
       "    <tr>\n",
       "      <th>h1n1_vaccine</th>\n",
       "      <th></th>\n",
       "      <th></th>\n",
       "      <th></th>\n",
       "    </tr>\n",
       "  </thead>\n",
       "  <tbody>\n",
       "    <tr>\n",
       "      <th>0</th>\n",
       "      <td>0.497810</td>\n",
       "      <td>0.289737</td>\n",
       "      <td>0.787546</td>\n",
       "    </tr>\n",
       "    <tr>\n",
       "      <th>1</th>\n",
       "      <td>0.036582</td>\n",
       "      <td>0.175871</td>\n",
       "      <td>0.212454</td>\n",
       "    </tr>\n",
       "    <tr>\n",
       "      <th>All</th>\n",
       "      <td>0.534392</td>\n",
       "      <td>0.465608</td>\n",
       "      <td>1.000000</td>\n",
       "    </tr>\n",
       "  </tbody>\n",
       "</table>\n",
       "</div>"
      ],
      "text/plain": [
       "seasonal_vaccine         0         1       All\n",
       "h1n1_vaccine                                  \n",
       "0                 0.497810  0.289737  0.787546\n",
       "1                 0.036582  0.175871  0.212454\n",
       "All               0.534392  0.465608  1.000000"
      ]
     },
     "execution_count": 47,
     "metadata": {},
     "output_type": "execute_result"
    }
   ],
   "source": [
    "CM=pd.crosstab(y_train_df['h1n1_vaccine'], y_train_df['seasonal_vaccine'], margins=True, normalize=True)\n",
    "CM"
   ]
  },
  {
   "cell_type": "code",
   "execution_count": 51,
   "metadata": {},
   "outputs": [
    {
     "name": "stdout",
     "output_type": "stream",
     "text": [
      "no seasonal percentage of h1n1: 0.17218893197039126\n",
      "both percentage of h1n1: 0.8278110680296088\n"
     ]
    }
   ],
   "source": [
    "a = CM.to_numpy()\n",
    "print(f\"no seasonal percentage of h1n1: {a[1,0]/(a[1,0] + a[1,1])}\")\n",
    "print(f\"both percentage of h1n1: {a[1,1]/(a[1,0] + a[1,1])}\")"
   ]
  },
  {
   "cell_type": "code",
   "execution_count": 52,
   "metadata": {},
   "outputs": [
    {
     "name": "stdout",
     "output_type": "stream",
     "text": [
      "(26707, 37)\n"
     ]
    },
    {
     "data": {
      "text/html": [
       "<div>\n",
       "<style scoped>\n",
       "    .dataframe tbody tr th:only-of-type {\n",
       "        vertical-align: middle;\n",
       "    }\n",
       "\n",
       "    .dataframe tbody tr th {\n",
       "        vertical-align: top;\n",
       "    }\n",
       "\n",
       "    .dataframe thead th {\n",
       "        text-align: right;\n",
       "    }\n",
       "</style>\n",
       "<table border=\"1\" class=\"dataframe\">\n",
       "  <thead>\n",
       "    <tr style=\"text-align: right;\">\n",
       "      <th></th>\n",
       "      <th>h1n1_concern</th>\n",
       "      <th>h1n1_knowledge</th>\n",
       "      <th>behavioral_antiviral_meds</th>\n",
       "      <th>behavioral_avoidance</th>\n",
       "      <th>behavioral_face_mask</th>\n",
       "      <th>behavioral_wash_hands</th>\n",
       "      <th>behavioral_large_gatherings</th>\n",
       "      <th>behavioral_outside_home</th>\n",
       "      <th>behavioral_touch_face</th>\n",
       "      <th>doctor_recc_h1n1</th>\n",
       "      <th>...</th>\n",
       "      <th>rent_or_own</th>\n",
       "      <th>employment_status</th>\n",
       "      <th>hhs_geo_region</th>\n",
       "      <th>census_msa</th>\n",
       "      <th>household_adults</th>\n",
       "      <th>household_children</th>\n",
       "      <th>employment_industry</th>\n",
       "      <th>employment_occupation</th>\n",
       "      <th>h1n1_vaccine</th>\n",
       "      <th>seasonal_vaccine</th>\n",
       "    </tr>\n",
       "    <tr>\n",
       "      <th>respondent_id</th>\n",
       "      <th></th>\n",
       "      <th></th>\n",
       "      <th></th>\n",
       "      <th></th>\n",
       "      <th></th>\n",
       "      <th></th>\n",
       "      <th></th>\n",
       "      <th></th>\n",
       "      <th></th>\n",
       "      <th></th>\n",
       "      <th></th>\n",
       "      <th></th>\n",
       "      <th></th>\n",
       "      <th></th>\n",
       "      <th></th>\n",
       "      <th></th>\n",
       "      <th></th>\n",
       "      <th></th>\n",
       "      <th></th>\n",
       "      <th></th>\n",
       "      <th></th>\n",
       "    </tr>\n",
       "  </thead>\n",
       "  <tbody>\n",
       "    <tr>\n",
       "      <th>0</th>\n",
       "      <td>1.0</td>\n",
       "      <td>0.0</td>\n",
       "      <td>0.0</td>\n",
       "      <td>0.0</td>\n",
       "      <td>0.0</td>\n",
       "      <td>0.0</td>\n",
       "      <td>0.0</td>\n",
       "      <td>1.0</td>\n",
       "      <td>1.0</td>\n",
       "      <td>0.0</td>\n",
       "      <td>...</td>\n",
       "      <td>Own</td>\n",
       "      <td>Not in Labor Force</td>\n",
       "      <td>oxchjgsf</td>\n",
       "      <td>Non-MSA</td>\n",
       "      <td>0.0</td>\n",
       "      <td>0.0</td>\n",
       "      <td>NaN</td>\n",
       "      <td>NaN</td>\n",
       "      <td>0</td>\n",
       "      <td>0</td>\n",
       "    </tr>\n",
       "    <tr>\n",
       "      <th>1</th>\n",
       "      <td>3.0</td>\n",
       "      <td>2.0</td>\n",
       "      <td>0.0</td>\n",
       "      <td>1.0</td>\n",
       "      <td>0.0</td>\n",
       "      <td>1.0</td>\n",
       "      <td>0.0</td>\n",
       "      <td>1.0</td>\n",
       "      <td>1.0</td>\n",
       "      <td>0.0</td>\n",
       "      <td>...</td>\n",
       "      <td>Rent</td>\n",
       "      <td>Employed</td>\n",
       "      <td>bhuqouqj</td>\n",
       "      <td>MSA, Not Principle  City</td>\n",
       "      <td>0.0</td>\n",
       "      <td>0.0</td>\n",
       "      <td>pxcmvdjn</td>\n",
       "      <td>xgwztkwe</td>\n",
       "      <td>0</td>\n",
       "      <td>1</td>\n",
       "    </tr>\n",
       "    <tr>\n",
       "      <th>2</th>\n",
       "      <td>1.0</td>\n",
       "      <td>1.0</td>\n",
       "      <td>0.0</td>\n",
       "      <td>1.0</td>\n",
       "      <td>0.0</td>\n",
       "      <td>0.0</td>\n",
       "      <td>0.0</td>\n",
       "      <td>0.0</td>\n",
       "      <td>0.0</td>\n",
       "      <td>NaN</td>\n",
       "      <td>...</td>\n",
       "      <td>Own</td>\n",
       "      <td>Employed</td>\n",
       "      <td>qufhixun</td>\n",
       "      <td>MSA, Not Principle  City</td>\n",
       "      <td>2.0</td>\n",
       "      <td>0.0</td>\n",
       "      <td>rucpziij</td>\n",
       "      <td>xtkaffoo</td>\n",
       "      <td>0</td>\n",
       "      <td>0</td>\n",
       "    </tr>\n",
       "  </tbody>\n",
       "</table>\n",
       "<p>3 rows × 37 columns</p>\n",
       "</div>"
      ],
      "text/plain": [
       "               h1n1_concern  h1n1_knowledge  behavioral_antiviral_meds  \\\n",
       "respondent_id                                                            \n",
       "0                       1.0             0.0                        0.0   \n",
       "1                       3.0             2.0                        0.0   \n",
       "2                       1.0             1.0                        0.0   \n",
       "\n",
       "               behavioral_avoidance  behavioral_face_mask  \\\n",
       "respondent_id                                               \n",
       "0                               0.0                   0.0   \n",
       "1                               1.0                   0.0   \n",
       "2                               1.0                   0.0   \n",
       "\n",
       "               behavioral_wash_hands  behavioral_large_gatherings  \\\n",
       "respondent_id                                                       \n",
       "0                                0.0                          0.0   \n",
       "1                                1.0                          0.0   \n",
       "2                                0.0                          0.0   \n",
       "\n",
       "               behavioral_outside_home  behavioral_touch_face  \\\n",
       "respondent_id                                                   \n",
       "0                                  1.0                    1.0   \n",
       "1                                  1.0                    1.0   \n",
       "2                                  0.0                    0.0   \n",
       "\n",
       "               doctor_recc_h1n1  ...  rent_or_own   employment_status  \\\n",
       "respondent_id                    ...                                    \n",
       "0                           0.0  ...          Own  Not in Labor Force   \n",
       "1                           0.0  ...         Rent            Employed   \n",
       "2                           NaN  ...          Own            Employed   \n",
       "\n",
       "               hhs_geo_region                census_msa  household_adults  \\\n",
       "respondent_id                                                               \n",
       "0                    oxchjgsf                   Non-MSA               0.0   \n",
       "1                    bhuqouqj  MSA, Not Principle  City               0.0   \n",
       "2                    qufhixun  MSA, Not Principle  City               2.0   \n",
       "\n",
       "               household_children  employment_industry  employment_occupation  \\\n",
       "respondent_id                                                                   \n",
       "0                             0.0                  NaN                    NaN   \n",
       "1                             0.0             pxcmvdjn               xgwztkwe   \n",
       "2                             0.0             rucpziij               xtkaffoo   \n",
       "\n",
       "               h1n1_vaccine  seasonal_vaccine  \n",
       "respondent_id                                  \n",
       "0                         0                 0  \n",
       "1                         0                 1  \n",
       "2                         0                 0  \n",
       "\n",
       "[3 rows x 37 columns]"
      ]
     },
     "execution_count": 52,
     "metadata": {},
     "output_type": "execute_result"
    }
   ],
   "source": [
    "joined_df= X_train_df.join(y_train_df)\n",
    "print(joined_df.shape)\n",
    "joined_df.head(3)"
   ]
  },
  {
   "cell_type": "code",
   "execution_count": 60,
   "metadata": {},
   "outputs": [
    {
     "name": "stdout",
     "output_type": "stream",
     "text": [
      "<class 'pandas.core.frame.DataFrame'>\n",
      "h1n1_vaccine     0     1\n",
      "h1n1_concern            \n",
      "0.0           2849   447\n",
      "1.0           6756  1397\n",
      "2.0           8102  2473\n",
      "3.0           3250  1341\n"
     ]
    }
   ],
   "source": [
    "counts= joined_df[['h1n1_concern', 'h1n1_vaccine']].groupby(['h1n1_concern', 'h1n1_vaccine']).size().unstack('h1n1_vaccine')\n",
    "print(type(counts))\n",
    "print(counts)"
   ]
  },
  {
   "cell_type": "code",
   "execution_count": 68,
   "metadata": {},
   "outputs": [
    {
     "data": {
      "text/plain": [
       "<matplotlib.legend.Legend at 0x1f185e9a7a0>"
      ]
     },
     "execution_count": 68,
     "metadata": {},
     "output_type": "execute_result"
    },
    {
     "data": {
      "image/png": "[encoded data removed]",
      "text/plain": [
       "<Figure size 432x288 with 1 Axes>"
      ]
     },
     "metadata": {
      "needs_background": "light"
     },
     "output_type": "display_data"
    }
   ],
   "source": [
    "ax= counts.plot.barh()\n",
    "ax.invert_yaxis()\n",
    "ax.legend(loc='center right', bbox_to_anchor=(1.3, 0.5), title='h1n1_vaccine')"
   ]
  },
  {
   "cell_type": "code",
   "execution_count": 58,
   "metadata": {},
   "outputs": [
    {
     "data": {
      "text/plain": [
       "h1n1_concern\n",
       "0.0     3296\n",
       "1.0     8153\n",
       "2.0    10575\n",
       "3.0     4591\n",
       "dtype: int64"
      ]
     },
     "execution_count": 58,
     "metadata": {},
     "output_type": "execute_result"
    }
   ],
   "source": [
    "h1n1_concern_counts = counts.sum(axis='columns')\n",
    "h1n1_concern_counts"
   ]
  },
  {
   "cell_type": "code",
   "execution_count": 59,
   "metadata": {},
   "outputs": [
    {
     "data": {
      "text/html": [
       "<div>\n",
       "<style scoped>\n",
       "    .dataframe tbody tr th:only-of-type {\n",
       "        vertical-align: middle;\n",
       "    }\n",
       "\n",
       "    .dataframe tbody tr th {\n",
       "        vertical-align: top;\n",
       "    }\n",
       "\n",
       "    .dataframe thead th {\n",
       "        text-align: right;\n",
       "    }\n",
       "</style>\n",
       "<table border=\"1\" class=\"dataframe\">\n",
       "  <thead>\n",
       "    <tr style=\"text-align: right;\">\n",
       "      <th>h1n1_vaccine</th>\n",
       "      <th>0</th>\n",
       "      <th>1</th>\n",
       "    </tr>\n",
       "    <tr>\n",
       "      <th>h1n1_concern</th>\n",
       "      <th></th>\n",
       "      <th></th>\n",
       "    </tr>\n",
       "  </thead>\n",
       "  <tbody>\n",
       "    <tr>\n",
       "      <th>0.0</th>\n",
       "      <td>0.864381</td>\n",
       "      <td>0.135619</td>\n",
       "    </tr>\n",
       "    <tr>\n",
       "      <th>1.0</th>\n",
       "      <td>0.828652</td>\n",
       "      <td>0.171348</td>\n",
       "    </tr>\n",
       "    <tr>\n",
       "      <th>2.0</th>\n",
       "      <td>0.766147</td>\n",
       "      <td>0.233853</td>\n",
       "    </tr>\n",
       "    <tr>\n",
       "      <th>3.0</th>\n",
       "      <td>0.707907</td>\n",
       "      <td>0.292093</td>\n",
       "    </tr>\n",
       "  </tbody>\n",
       "</table>\n",
       "</div>"
      ],
      "text/plain": [
       "h1n1_vaccine         0         1\n",
       "h1n1_concern                    \n",
       "0.0           0.864381  0.135619\n",
       "1.0           0.828652  0.171348\n",
       "2.0           0.766147  0.233853\n",
       "3.0           0.707907  0.292093"
      ]
     },
     "execution_count": 59,
     "metadata": {},
     "output_type": "execute_result"
    }
   ],
   "source": [
    "props = counts.div(h1n1_concern_counts, axis='index')\n",
    "props"
   ]
  },
  {
   "cell_type": "code",
   "execution_count": 70,
   "metadata": {},
   "outputs": [
    {
     "data": {
      "text/plain": [
       "<matplotlib.legend.Legend at 0x1f1897876d0>"
      ]
     },
     "execution_count": 70,
     "metadata": {},
     "output_type": "execute_result"
    },
    {
     "data": {
      "image/png": "[encoded data removed]",
      "text/plain": [
       "<Figure size 432x288 with 1 Axes>"
      ]
     },
     "metadata": {
      "needs_background": "light"
     },
     "output_type": "display_data"
    }
   ],
   "source": [
    "ax=props.plot.barh(stacked=True)\n",
    "ax.invert_yaxis()\n",
    "ax.legend(loc=\"center left\", bbox_to_anchor=(1.05, 0.5), title=\"h1n1_vaccine\")"
   ]
  },
  {
   "cell_type": "code",
   "execution_count": 71,
   "metadata": {},
   "outputs": [],
   "source": [
    "def vaccination_rate_plot(independent_col, target_col, dataframe, ax=None):\n",
    "    \"\"\"Stacked bar chart of vaccination rate for target_col against independent_col.\n",
    "        Args:\n",
    "            independent_col (string): column name of feature (independent) variable\n",
    "            target_col (string): column name of target (dependent) variable\n",
    "            dataframe (pandas dataframe): dataframe that contains the indepentent- and the target-columns\n",
    "            ax (matplotlib axes object, optional): matplotlib axes object to attach plot to\n",
    "    \"\"\"\n",
    "    counts = dataframe[[independent_col, target_col]].groupby([independent_col, target_col]).size().unstack(target_col)\n",
    "    group_counts = counts.sum(axis='columns')\n",
    "    props = counts.div(group_counts, axis='index')\n",
    "\n",
    "    props.plot(kind=\"barh\", stacked=True, ax=ax)\n",
    "    ax.invert_yaxis()\n",
    "    ax.legend().remove()"
   ]
  },
  {
   "cell_type": "code",
   "execution_count": 72,
   "metadata": {},
   "outputs": [
    {
     "data": {
      "image/png": "[encoded data removed]",
      "text/plain": [
       "<Figure size 648x1980 with 22 Axes>"
      ]
     },
     "metadata": {
      "needs_background": "light"
     },
     "output_type": "display_data"
    }
   ],
   "source": [
    "cols_to_plot = [\n",
    "    'h1n1_concern',\n",
    "    'h1n1_knowledge',\n",
    "    'opinion_h1n1_vacc_effective',\n",
    "    'opinion_h1n1_risk',\n",
    "    'opinion_h1n1_sick_from_vacc',\n",
    "    'opinion_seas_vacc_effective',\n",
    "    'opinion_seas_risk',\n",
    "    'opinion_seas_sick_from_vacc',\n",
    "    'sex',\n",
    "    'age_group',\n",
    "    'race',\n",
    "]\n",
    "\n",
    "fig, ax = plt.subplots(\n",
    "    len(cols_to_plot), 2, figsize=(9,len(cols_to_plot)*2.5)\n",
    ")\n",
    "\n",
    "for idx, col in enumerate(cols_to_plot):\n",
    "    vaccination_rate_plot(\n",
    "        col, 'h1n1_vaccine', joined_df, ax=ax[idx, 0]\n",
    "    )\n",
    "    vaccination_rate_plot(\n",
    "        col, 'seasonal_vaccine', joined_df, ax=ax[idx, 1]\n",
    "    )\n",
    "    \n",
    "ax[0, 0].legend(\n",
    "    loc='lower center', bbox_to_anchor=(0.5, 1.05), title='h1n1_vaccine'\n",
    ")\n",
    "ax[0, 1].legend(\n",
    "    loc='lower center', bbox_to_anchor=(0.5, 1.05), title='seasonal_vaccine'\n",
    ")\n",
    "fig.tight_layout()"
   ]
  },
  {
   "cell_type": "markdown",
   "metadata": {},
   "source": [
    "Use simple imputer for imputation of median for numerical columns. Scikit supports even imputation for categorical columns by strategies as \"constant\" or \"most frequent\""
   ]
  },
  {
   "cell_type": "code",
   "execution_count": null,
   "metadata": {},
   "outputs": [],
   "source": [
    "# clean the numeric columns from unassigned values:\n",
    "\n",
    "from sklearn.impute import SimpleImputer\n",
    "\n",
    "numeric_columns = X_train_df.columns[X_train_df.dtypes != \"object\"]\n",
    "\n",
    "imputer = SimpleImputer(strategy=\"median\")\n",
    "X_train_numeric = X_train_df[numeric_columns]\n",
    "\n",
    "x_imp = imputer.fit_transform(X_train_numeric)\n",
    "X_train_imp = pd.DataFrame(x_imp, columns=numeric_columns, index=X_train_numeric.index)\n",
    "\n",
    "train_median = imputer.statistics_\n",
    "#imputer = SimpleImputer(strategy=\"constant\", fill_value=train_median)\n",
    "\n",
    "X_test_numeric = X_test_df[numeric_columns]\n",
    "x_imp = imputer.transform(X_test_numeric) # uses the statistics_ obtained from fittin the train-set\n",
    "X_test_imp = pd.DataFrame(x_imp, columns=numeric_columns, index=X_test_numeric.index)\n"
   ]
  },
  {
   "cell_type": "code",
   "execution_count": null,
   "metadata": {},
   "outputs": [],
   "source": [
    "print(X_train_imp.isna().sum().sum())\n",
    "print(X_test_imp.isna().sum().sum())"
   ]
  },
  {
   "cell_type": "code",
   "execution_count": 21,
   "metadata": {},
   "outputs": [
    {
     "data": {
      "text/plain": [
       "h1n1_concern                   float64\n",
       "h1n1_knowledge                 float64\n",
       "behavioral_antiviral_meds      float64\n",
       "behavioral_avoidance           float64\n",
       "behavioral_face_mask           float64\n",
       "behavioral_wash_hands          float64\n",
       "behavioral_large_gatherings    float64\n",
       "behavioral_outside_home        float64\n",
       "behavioral_touch_face          float64\n",
       "doctor_recc_h1n1               float64\n",
       "doctor_recc_seasonal           float64\n",
       "chronic_med_condition          float64\n",
       "child_under_6_months           float64\n",
       "health_worker                  float64\n",
       "health_insurance               float64\n",
       "opinion_h1n1_vacc_effective    float64\n",
       "opinion_h1n1_risk              float64\n",
       "opinion_h1n1_sick_from_vacc    float64\n",
       "opinion_seas_vacc_effective    float64\n",
       "opinion_seas_risk              float64\n",
       "opinion_seas_sick_from_vacc    float64\n",
       "age_group                       object\n",
       "education                       object\n",
       "race                            object\n",
       "sex                             object\n",
       "income_poverty                  object\n",
       "marital_status                  object\n",
       "rent_or_own                     object\n",
       "employment_status               object\n",
       "hhs_geo_region                  object\n",
       "census_msa                      object\n",
       "household_adults               float64\n",
       "household_children             float64\n",
       "employment_industry             object\n",
       "employment_occupation           object\n",
       "dtype: object"
      ]
     },
     "execution_count": 21,
     "metadata": {},
     "output_type": "execute_result"
    }
   ],
   "source": [
    "# Determine which columns are categorial and which are numerical:\n",
    "\n",
    "X_train_df.dtypes"
   ]
  },
  {
   "cell_type": "code",
   "execution_count": 76,
   "metadata": {},
   "outputs": [
    {
     "data": {
      "text/plain": [
       "Index(['h1n1_concern', 'h1n1_knowledge', 'behavioral_antiviral_meds',\n",
       "       'behavioral_avoidance', 'behavioral_face_mask', 'behavioral_wash_hands',\n",
       "       'behavioral_large_gatherings', 'behavioral_outside_home',\n",
       "       'behavioral_touch_face', 'doctor_recc_h1n1', 'doctor_recc_seasonal',\n",
       "       'chronic_med_condition', 'child_under_6_months', 'health_worker',\n",
       "       'health_insurance', 'opinion_h1n1_vacc_effective', 'opinion_h1n1_risk',\n",
       "       'opinion_h1n1_sick_from_vacc', 'opinion_seas_vacc_effective',\n",
       "       'opinion_seas_risk', 'opinion_seas_sick_from_vacc', 'household_adults',\n",
       "       'household_children'],\n",
       "      dtype='object')"
      ]
     },
     "execution_count": 76,
     "metadata": {},
     "output_type": "execute_result"
    }
   ],
   "source": [
    "numeric_columns = X_train_df.columns[X_train_df.dtypes != \"object\"]\n",
    "numeric_columns"
   ]
  },
  {
   "cell_type": "code",
   "execution_count": 22,
   "metadata": {},
   "outputs": [
    {
     "data": {
      "text/plain": [
       "Index(['age_group', 'education', 'race', 'sex', 'income_poverty',\n",
       "       'marital_status', 'rent_or_own', 'employment_status', 'hhs_geo_region',\n",
       "       'census_msa', 'employment_industry', 'employment_occupation'],\n",
       "      dtype='object')"
      ]
     },
     "execution_count": 22,
     "metadata": {},
     "output_type": "execute_result"
    }
   ],
   "source": [
    "non_numeric_columns = X_train_df.columns[X_train_df.dtypes == \"object\"]\n",
    "non_numeric_columns"
   ]
  },
  {
   "cell_type": "code",
   "execution_count": 23,
   "metadata": {},
   "outputs": [],
   "source": [
    "# convert the non-numeric-columns to one-hot-encoded columns:\n",
    "\n",
    "X_train_clean = pd.concat([X_train_imp, pd.get_dummies(X_train_df[non_numeric_columns], drop_first=True, dummy_na=True)], axis=1)\n",
    "X_test_clean = pd.concat([X_test_imp, pd.get_dummies(X_test_df[non_numeric_columns], drop_first=True, dummy_na=True)], axis=1)"
   ]
  },
  {
   "cell_type": "code",
   "execution_count": 75,
   "metadata": {},
   "outputs": [
    {
     "name": "stdout",
     "output_type": "stream",
     "text": [
      "105\n",
      "105\n"
     ]
    }
   ],
   "source": [
    "# due to our data preparation we only have numeric columns now:\n",
    "\n",
    "print(len(X_train_clean.columns[X_train_clean.dtypes != 'object'].values))\n",
    "print(len(X_train_clean.columns))"
   ]
  },
  {
   "cell_type": "code",
   "execution_count": 74,
   "metadata": {},
   "outputs": [
    {
     "name": "stdout",
     "output_type": "stream",
     "text": [
      "0\n",
      "0\n"
     ]
    }
   ],
   "source": [
    "# we don't have any missing values:\n",
    "\n",
    "print(X_train_clean.isna().sum().sum())\n",
    "print(X_test_clean.isna().sum().sum())"
   ]
  },
  {
   "cell_type": "markdown",
   "metadata": {},
   "source": [
    "### Models to Consider: ###\n",
    "1. logistic regression <br>\n",
    "2. regression with polynomial features: does this make sense if we only have 0,1 values? <br>\n",
    "2. Support Vector Machine with RBF <br>\n",
    "3. Random Forrest / XGBoost <br>\n",
    "4. FC neural net <br>\n",
    "5. CNN - because the data seem to be 0 and 1's only...: pseudo-image\n",
    "<br>"
   ]
  },
  {
   "cell_type": "markdown",
   "metadata": {},
   "source": [
    "### Logistic Regression - DataDriven Tutorial ###"
   ]
  },
  {
   "cell_type": "code",
   "execution_count": 128,
   "metadata": {},
   "outputs": [],
   "source": [
    "# numeric columns for regression:\n",
    "\n",
    "numeric_preprocessing_pipeline = Pipeline([\n",
    "    (\"standard_scaler\", StandardScaler()),\n",
    "    (\"simple_imputer\", SimpleImputer(strategy=\"median\"))\n",
    "])\n",
    "\n",
    "preprocessor = ColumnTransformer(\n",
    "    transformers = [\n",
    "        (\"numeric\", numeric_preprocessing_pipeline, numeric_columns) # do not scale and impute the one-hot-encoded non-numeric columns\n",
    "    ],\n",
    "    remainder=\"drop\" # drops the remaining, i.e. non-transformed columns\n",
    ")"
   ]
  },
  {
   "cell_type": "code",
   "execution_count": 129,
   "metadata": {},
   "outputs": [],
   "source": [
    "multi_estimator= MultiOutputClassifier(estimator=LogisticRegression(penalty=\"l2\", C=1))\n",
    "\n",
    "full_pipeline = Pipeline([\n",
    "    (\"preprocessor\", preprocessor),\n",
    "    (\"multi_estimator\", multi_estimator),\n",
    "])"
   ]
  },
  {
   "cell_type": "code",
   "execution_count": 130,
   "metadata": {},
   "outputs": [
    {
     "data": {
      "text/plain": [
       "Pipeline(steps=[('preprocessor',\n",
       "                 ColumnTransformer(transformers=[('numeric',\n",
       "                                                  Pipeline(steps=[('standard_scaler',\n",
       "                                                                   StandardScaler()),\n",
       "                                                                  ('simple_imputer',\n",
       "                                                                   SimpleImputer(strategy='median'))]),\n",
       "                                                  Index(['h1n1_concern', 'h1n1_knowledge', 'behavioral_antiviral_meds',\n",
       "       'behavioral_avoidance', 'behavioral_face_mask', 'behavioral_wash_hands',\n",
       "       'behavioral_large_gatherings', '...\n",
       "       'chronic_med_condition', 'child_under_6_months', 'health_worker',\n",
       "       'health_insurance', 'opinion_h1n1_vacc_effective', 'opinion_h1n1_risk',\n",
       "       'opinion_h1n1_sick_from_vacc', 'opinion_seas_vacc_effective',\n",
       "       'opinion_seas_risk', 'opinion_seas_sick_from_vacc', 'household_adults',\n",
       "       'household_children'],\n",
       "      dtype='object'))])),\n",
       "                ('multi_estimator',\n",
       "                 MultiOutputClassifier(estimator=LogisticRegression(C=1)))])"
      ]
     },
     "execution_count": 130,
     "metadata": {},
     "output_type": "execute_result"
    }
   ],
   "source": [
    "full_pipeline"
   ]
  },
  {
   "cell_type": "code",
   "execution_count": 131,
   "metadata": {},
   "outputs": [],
   "source": [
    "# train test split:\n",
    "from sklearn.model_selection import train_test_split\n",
    "RANDOM_SEED = 42\n",
    "\n",
    "# output types are pandas dataframes - we split the X_train_clean dataset:\n",
    "X_train, X_eval, y_train, y_eval = train_test_split(X_train_df, y_train_df, test_size=0.33, shuffle=True, stratify=y_train_df, random_state=RANDOM_SEED)\n",
    "\n"
   ]
  },
  {
   "cell_type": "code",
   "execution_count": 133,
   "metadata": {},
   "outputs": [
    {
     "data": {
      "text/html": [
       "<div>\n",
       "<style scoped>\n",
       "    .dataframe tbody tr th:only-of-type {\n",
       "        vertical-align: middle;\n",
       "    }\n",
       "\n",
       "    .dataframe tbody tr th {\n",
       "        vertical-align: top;\n",
       "    }\n",
       "\n",
       "    .dataframe thead th {\n",
       "        text-align: right;\n",
       "    }\n",
       "</style>\n",
       "<table border=\"1\" class=\"dataframe\">\n",
       "  <thead>\n",
       "    <tr style=\"text-align: right;\">\n",
       "      <th></th>\n",
       "      <th>h1n1_vaccine</th>\n",
       "      <th>seasonal_vaccine</th>\n",
       "    </tr>\n",
       "    <tr>\n",
       "      <th>respondent_id</th>\n",
       "      <th></th>\n",
       "      <th></th>\n",
       "    </tr>\n",
       "  </thead>\n",
       "  <tbody>\n",
       "    <tr>\n",
       "      <th>9330</th>\n",
       "      <td>1</td>\n",
       "      <td>1</td>\n",
       "    </tr>\n",
       "  </tbody>\n",
       "</table>\n",
       "</div>"
      ],
      "text/plain": [
       "               h1n1_vaccine  seasonal_vaccine\n",
       "respondent_id                                \n",
       "9330                      1                 1"
      ]
     },
     "execution_count": 133,
     "metadata": {},
     "output_type": "execute_result"
    }
   ],
   "source": [
    "# the first component of y_train contains the h1n1_vaccine labels - the predictions will be ordered accordingly:\n",
    "\n",
    "y_train.head(1)"
   ]
  },
  {
   "cell_type": "code",
   "execution_count": 134,
   "metadata": {},
   "outputs": [],
   "source": [
    "full_pipeline.fit(X_train, y_train)\n",
    "\n",
    "preds = full_pipeline.predict_proba(X_eval)"
   ]
  },
  {
   "cell_type": "code",
   "execution_count": 135,
   "metadata": {},
   "outputs": [
    {
     "name": "stdout",
     "output_type": "stream",
     "text": [
      "2\n",
      "(8814, 2)\n",
      "(8814, 2)\n"
     ]
    }
   ],
   "source": [
    "# preds is a list containing two dataframes - one for h1n1 and one for seasonal predictions:\n",
    "\n",
    "print(len(preds))\n",
    "print(preds[0].shape)\n",
    "print(preds[1].shape)"
   ]
  },
  {
   "cell_type": "code",
   "execution_count": 136,
   "metadata": {},
   "outputs": [
    {
     "data": {
      "text/plain": [
       "array([[0.9370031 , 0.0629969 ],\n",
       "       [0.24217469, 0.75782531],\n",
       "       [0.95826257, 0.04173743]])"
      ]
     },
     "execution_count": 136,
     "metadata": {},
     "output_type": "execute_result"
    }
   ],
   "source": [
    "# first three predictions of h1n1 vaccination label (probabilty(\"no\"), probability(\"yes\")):\n",
    "preds[0][:3]"
   ]
  },
  {
   "cell_type": "code",
   "execution_count": 137,
   "metadata": {},
   "outputs": [
    {
     "name": "stdout",
     "output_type": "stream",
     "text": [
      "y_preds.shape: (8814, 2)\n"
     ]
    },
    {
     "data": {
      "text/html": [
       "<div>\n",
       "<style scoped>\n",
       "    .dataframe tbody tr th:only-of-type {\n",
       "        vertical-align: middle;\n",
       "    }\n",
       "\n",
       "    .dataframe tbody tr th {\n",
       "        vertical-align: top;\n",
       "    }\n",
       "\n",
       "    .dataframe thead th {\n",
       "        text-align: right;\n",
       "    }\n",
       "</style>\n",
       "<table border=\"1\" class=\"dataframe\">\n",
       "  <thead>\n",
       "    <tr style=\"text-align: right;\">\n",
       "      <th></th>\n",
       "      <th>h1n1_vaccine</th>\n",
       "      <th>seasonal_vaccine</th>\n",
       "    </tr>\n",
       "    <tr>\n",
       "      <th>respondent_id</th>\n",
       "      <th></th>\n",
       "      <th></th>\n",
       "    </tr>\n",
       "  </thead>\n",
       "  <tbody>\n",
       "    <tr>\n",
       "      <th>6368</th>\n",
       "      <td>0.062997</td>\n",
       "      <td>0.018608</td>\n",
       "    </tr>\n",
       "    <tr>\n",
       "      <th>12566</th>\n",
       "      <td>0.757825</td>\n",
       "      <td>0.907685</td>\n",
       "    </tr>\n",
       "    <tr>\n",
       "      <th>13996</th>\n",
       "      <td>0.041737</td>\n",
       "      <td>0.046723</td>\n",
       "    </tr>\n",
       "  </tbody>\n",
       "</table>\n",
       "</div>"
      ],
      "text/plain": [
       "               h1n1_vaccine  seasonal_vaccine\n",
       "respondent_id                                \n",
       "6368               0.062997          0.018608\n",
       "12566              0.757825          0.907685\n",
       "13996              0.041737          0.046723"
      ]
     },
     "execution_count": 137,
     "metadata": {},
     "output_type": "execute_result"
    }
   ],
   "source": [
    "y_preds = pd.DataFrame(\n",
    "    {\n",
    "        \"h1n1_vaccine\": preds[0][:,1],\n",
    "        \"seasonal_vaccine\": preds[1][:,1],\n",
    "    },\n",
    "    index=y_eval.index\n",
    ")\n",
    "\n",
    "print(f\"y_preds.shape: {y_preds.shape}\")\n",
    "y_preds.head(3)"
   ]
  },
  {
   "cell_type": "code",
   "execution_count": 15,
   "metadata": {},
   "outputs": [],
   "source": [
    "def plot_roc(y_true, y_score, label_name, ax):\n",
    "    fpr, tpr, thresholds = roc_curve(y_true, y_score)\n",
    "    ax.plot(fpr, tpr)\n",
    "    ax.plot([0,1],[0,1], color=\"grey\", linestyle=\"--\")\n",
    "    ax.set_ylabel(\"TPR\")\n",
    "    ax.set_xlabel(\"FPR\")\n",
    "    ax.set_title(f\"{label_name}: AUC = {roc_auc_score(y_true, y_score):.4f}\")"
   ]
  },
  {
   "cell_type": "code",
   "execution_count": 16,
   "metadata": {},
   "outputs": [
    {
     "data": {
      "image/png": "[encoded data removed]",
      "text/plain": [
       "<Figure size 504x252 with 2 Axes>"
      ]
     },
     "metadata": {
      "needs_background": "light"
     },
     "output_type": "display_data"
    }
   ],
   "source": [
    "def plot_roc_h1n1_and_seasonal():\n",
    "    fig, ax = plt.subplots(1,2,figsize=(7, 3.5))\n",
    "\n",
    "    plot_roc(\n",
    "        y_eval[\"h1n1_vaccine\"],\n",
    "        y_preds[\"h1n1_vaccine\"],\n",
    "        \"h1n1_vaccine\",\n",
    "        ax=ax[0]\n",
    "    )\n",
    "\n",
    "    plot_roc(\n",
    "        y_eval[\"seasonal_vaccine\"],\n",
    "        y_preds[\"seasonal_vaccine\"],\n",
    "        \"seasonal_vaccine\",\n",
    "        ax=ax[1]\n",
    "    )\n",
    "\n",
    "    fig.tight_layout()\n",
    "\n",
    "plot_roc_h1n1_and_seasonal()"
   ]
  },
  {
   "cell_type": "code",
   "execution_count": 140,
   "metadata": {},
   "outputs": [
    {
     "data": {
      "text/plain": [
       "0.8317490240860407"
      ]
     },
     "execution_count": 140,
     "metadata": {},
     "output_type": "execute_result"
    }
   ],
   "source": [
    "# COMPETITION METRIC:\n",
    "roc_auc_score(y_eval, y_preds)"
   ]
  },
  {
   "cell_type": "code",
   "execution_count": 142,
   "metadata": {},
   "outputs": [
    {
     "data": {
      "text/plain": [
       "Pipeline(steps=[('preprocessor',\n",
       "                 ColumnTransformer(transformers=[('numeric',\n",
       "                                                  Pipeline(steps=[('standard_scaler',\n",
       "                                                                   StandardScaler()),\n",
       "                                                                  ('simple_imputer',\n",
       "                                                                   SimpleImputer(strategy='median'))]),\n",
       "                                                  Index(['h1n1_concern', 'h1n1_knowledge', 'behavioral_antiviral_meds',\n",
       "       'behavioral_avoidance', 'behavioral_face_mask', 'behavioral_wash_hands',\n",
       "       'behavioral_large_gatherings', '...\n",
       "       'chronic_med_condition', 'child_under_6_months', 'health_worker',\n",
       "       'health_insurance', 'opinion_h1n1_vacc_effective', 'opinion_h1n1_risk',\n",
       "       'opinion_h1n1_sick_from_vacc', 'opinion_seas_vacc_effective',\n",
       "       'opinion_seas_risk', 'opinion_seas_sick_from_vacc', 'household_adults',\n",
       "       'household_children'],\n",
       "      dtype='object'))])),\n",
       "                ('multi_estimator',\n",
       "                 MultiOutputClassifier(estimator=LogisticRegression(C=1)))])"
      ]
     },
     "execution_count": 142,
     "metadata": {},
     "output_type": "execute_result"
    }
   ],
   "source": [
    "# training on full dataset:\n",
    "full_pipeline.fit(X_train_df, y_train_df)"
   ]
  },
  {
   "cell_type": "code",
   "execution_count": 144,
   "metadata": {},
   "outputs": [],
   "source": [
    "test_preds = full_pipeline.predict_proba(X_test_df)"
   ]
  },
  {
   "cell_type": "code",
   "execution_count": 145,
   "metadata": {},
   "outputs": [
    {
     "data": {
      "text/html": [
       "<div>\n",
       "<style scoped>\n",
       "    .dataframe tbody tr th:only-of-type {\n",
       "        vertical-align: middle;\n",
       "    }\n",
       "\n",
       "    .dataframe tbody tr th {\n",
       "        vertical-align: top;\n",
       "    }\n",
       "\n",
       "    .dataframe thead th {\n",
       "        text-align: right;\n",
       "    }\n",
       "</style>\n",
       "<table border=\"1\" class=\"dataframe\">\n",
       "  <thead>\n",
       "    <tr style=\"text-align: right;\">\n",
       "      <th></th>\n",
       "      <th>h1n1_vaccine</th>\n",
       "      <th>seasonal_vaccine</th>\n",
       "    </tr>\n",
       "    <tr>\n",
       "      <th>respondent_id</th>\n",
       "      <th></th>\n",
       "      <th></th>\n",
       "    </tr>\n",
       "  </thead>\n",
       "  <tbody>\n",
       "    <tr>\n",
       "      <th>26707</th>\n",
       "      <td>0.5</td>\n",
       "      <td>0.7</td>\n",
       "    </tr>\n",
       "    <tr>\n",
       "      <th>26708</th>\n",
       "      <td>0.5</td>\n",
       "      <td>0.7</td>\n",
       "    </tr>\n",
       "    <tr>\n",
       "      <th>26709</th>\n",
       "      <td>0.5</td>\n",
       "      <td>0.7</td>\n",
       "    </tr>\n",
       "  </tbody>\n",
       "</table>\n",
       "</div>"
      ],
      "text/plain": [
       "               h1n1_vaccine  seasonal_vaccine\n",
       "respondent_id                                \n",
       "26707                   0.5               0.7\n",
       "26708                   0.5               0.7\n",
       "26709                   0.5               0.7"
      ]
     },
     "execution_count": 145,
     "metadata": {},
     "output_type": "execute_result"
    }
   ],
   "source": [
    "submission_df = pd.read_csv(\"submission_format.csv\", index_col=\"respondent_id\")\n",
    "submission_df.head(3)"
   ]
  },
  {
   "cell_type": "code",
   "execution_count": 146,
   "metadata": {},
   "outputs": [
    {
     "data": {
      "text/html": [
       "<div>\n",
       "<style scoped>\n",
       "    .dataframe tbody tr th:only-of-type {\n",
       "        vertical-align: middle;\n",
       "    }\n",
       "\n",
       "    .dataframe tbody tr th {\n",
       "        vertical-align: top;\n",
       "    }\n",
       "\n",
       "    .dataframe thead th {\n",
       "        text-align: right;\n",
       "    }\n",
       "</style>\n",
       "<table border=\"1\" class=\"dataframe\">\n",
       "  <thead>\n",
       "    <tr style=\"text-align: right;\">\n",
       "      <th></th>\n",
       "      <th>h1n1_vaccine</th>\n",
       "      <th>seasonal_vaccine</th>\n",
       "    </tr>\n",
       "    <tr>\n",
       "      <th>respondent_id</th>\n",
       "      <th></th>\n",
       "      <th></th>\n",
       "    </tr>\n",
       "  </thead>\n",
       "  <tbody>\n",
       "    <tr>\n",
       "      <th>26707</th>\n",
       "      <td>0.127197</td>\n",
       "      <td>0.426402</td>\n",
       "    </tr>\n",
       "    <tr>\n",
       "      <th>26708</th>\n",
       "      <td>0.055244</td>\n",
       "      <td>0.071233</td>\n",
       "    </tr>\n",
       "    <tr>\n",
       "      <th>26709</th>\n",
       "      <td>0.370930</td>\n",
       "      <td>0.637384</td>\n",
       "    </tr>\n",
       "    <tr>\n",
       "      <th>26710</th>\n",
       "      <td>0.464351</td>\n",
       "      <td>0.803446</td>\n",
       "    </tr>\n",
       "    <tr>\n",
       "      <th>26711</th>\n",
       "      <td>0.286673</td>\n",
       "      <td>0.634903</td>\n",
       "    </tr>\n",
       "  </tbody>\n",
       "</table>\n",
       "</div>"
      ],
      "text/plain": [
       "               h1n1_vaccine  seasonal_vaccine\n",
       "respondent_id                                \n",
       "26707              0.127197          0.426402\n",
       "26708              0.055244          0.071233\n",
       "26709              0.370930          0.637384\n",
       "26710              0.464351          0.803446\n",
       "26711              0.286673          0.634903"
      ]
     },
     "execution_count": 146,
     "metadata": {},
     "output_type": "execute_result"
    }
   ],
   "source": [
    "np.testing.assert_array_equal(submission_df.index.values, X_test_clean.index.values)\n",
    "submission_df[\"h1n1_vaccine\"]=test_preds[0][:,1]\n",
    "submission_df[\"seasonal_vaccine\"]=test_preds[1][:,1]\n",
    "\n",
    "submission_df.head(5)"
   ]
  },
  {
   "cell_type": "code",
   "execution_count": 147,
   "metadata": {},
   "outputs": [],
   "source": [
    "submission_df.to_csv(\"my_submission.csv\", index=True)"
   ]
  },
  {
   "cell_type": "markdown",
   "metadata": {},
   "source": [
    "### Logistic Regression - by BSC ###"
   ]
  },
  {
   "cell_type": "code",
   "execution_count": 54,
   "metadata": {},
   "outputs": [],
   "source": [
    "# impute missing values, scale numeric values, one-hot-encode non-numeric values:\n",
    "\n",
    "from sklearn.preprocessing import OneHotEncoder\n",
    "\n",
    "\n",
    "numeric_columns = X_train_df.columns[X_train_df.dtypes != \"object\"]\n",
    "non_numeric_columns = X_train_df.columns[X_train_df.dtypes ==\"object\"]\n",
    "\n",
    "numeric_preprocessing_pipeline = Pipeline([\n",
    "    (\"StandardScaler\", StandardScaler()),\n",
    "    (\"SimpleImputer\", SimpleImputer(strategy=\"median\"))\n",
    "])\n",
    "\n",
    "ohe = OneHotEncoder()\n",
    "\n",
    "\n",
    "full_columnTransformer = ColumnTransformer(\n",
    "    transformers= [\n",
    "        (\"numeric_preprocessing\", numeric_preprocessing_pipeline, numeric_columns),\n",
    "        (\"non_numeric_preprocessing\", ohe, non_numeric_columns)\n",
    "    ]\n",
    ")\n",
    "\n",
    "\n",
    "h1n1_clf = LogisticRegression(random_state=42 ,penalty=\"l2\", C=1)\n",
    "h1n1_pipeline = Pipeline([\n",
    "    (\"full_columnTransformer\", full_columnTransformer),\n",
    "    (\"h1n1_clf\", h1n1_clf)\n",
    "])\n",
    "\n",
    "seasonal_clf = LogisticRegression(random_state=42 ,penalty=\"l2\", C=1)\n",
    "seasonal_pipeline = Pipeline([\n",
    "    (\"full_columnTransformer\", full_columnTransformer),\n",
    "    (\"seasonal_clf\", seasonal_clf)\n",
    "])\n",
    "\n"
   ]
  },
  {
   "cell_type": "code",
   "execution_count": null,
   "metadata": {},
   "outputs": [],
   "source": []
  },
  {
   "cell_type": "code",
   "execution_count": null,
   "metadata": {},
   "outputs": [],
   "source": []
  },
  {
   "cell_type": "code",
   "execution_count": 55,
   "metadata": {},
   "outputs": [],
   "source": [
    "from sklearn.model_selection import train_test_split\n",
    "\n",
    "X_train, X_eval, y_train, y_eval = train_test_split(X_train_df, y_train_df, test_size= 0.3, random_state=42, shuffle=True)"
   ]
  },
  {
   "cell_type": "code",
   "execution_count": 56,
   "metadata": {},
   "outputs": [
    {
     "name": "stdout",
     "output_type": "stream",
     "text": [
      "Shape of y_train_h1n1: (18694,)\n",
      "Shape of y_train_seasonal: (18694,)\n",
      "Shape of y_eval_h1n1: (8013,)\n",
      "Shape of y_eval_seasonal: (8013,)\n"
     ]
    }
   ],
   "source": [
    "# prepare the labels for the two predictions we have to make:\n",
    "\n",
    "y_train_h1n1 = y_train.values[:,0].ravel()\n",
    "y_train_seasonal = y_train.values[:,1].ravel()\n",
    "y_eval_h1n1 = y_eval.values[:,0].ravel()\n",
    "y_eval_seasonal = y_eval.values[:,1].ravel()\n",
    "\n",
    "for s, a in zip([\"y_train_h1n1\", \"y_train_seasonal\", \"y_eval_h1n1\", \"y_eval_seasonal\"], [y_train_h1n1, y_train_seasonal, y_eval_h1n1, y_eval_seasonal]):\n",
    "    print(f\"Shape of {s}: {a.shape}\")"
   ]
  },
  {
   "cell_type": "code",
   "execution_count": 57,
   "metadata": {},
   "outputs": [
    {
     "name": "stderr",
     "output_type": "stream",
     "text": [
      "c:\\Users\\Hal9\\anaconda3\\envs\\condaPytorchEnv\\lib\\site-packages\\sklearn\\linear_model\\_logistic.py:814: ConvergenceWarning: lbfgs failed to converge (status=1):\n",
      "STOP: TOTAL NO. of ITERATIONS REACHED LIMIT.\n",
      "\n",
      "Increase the number of iterations (max_iter) or scale the data as shown in:\n",
      "    https://scikit-learn.org/stable/modules/preprocessing.html\n",
      "Please also refer to the documentation for alternative solver options:\n",
      "    https://scikit-learn.org/stable/modules/linear_model.html#logistic-regression\n",
      "  n_iter_i = _check_optimize_result(\n"
     ]
    },
    {
     "name": "stdout",
     "output_type": "stream",
     "text": [
      "h1n1 score: 0.838\n",
      "sesonal score: 0.787\n"
     ]
    },
    {
     "name": "stderr",
     "output_type": "stream",
     "text": [
      "c:\\Users\\Hal9\\anaconda3\\envs\\condaPytorchEnv\\lib\\site-packages\\sklearn\\linear_model\\_logistic.py:814: ConvergenceWarning: lbfgs failed to converge (status=1):\n",
      "STOP: TOTAL NO. of ITERATIONS REACHED LIMIT.\n",
      "\n",
      "Increase the number of iterations (max_iter) or scale the data as shown in:\n",
      "    https://scikit-learn.org/stable/modules/preprocessing.html\n",
      "Please also refer to the documentation for alternative solver options:\n",
      "    https://scikit-learn.org/stable/modules/linear_model.html#logistic-regression\n",
      "  n_iter_i = _check_optimize_result(\n"
     ]
    }
   ],
   "source": [
    "# logistic regression\n",
    "\n",
    "from sklearn.linear_model import LogisticRegression\n",
    "from sklearn.metrics import accuracy_score\n",
    "\n",
    "random_seed = 0\n",
    "\n",
    "h1n1_pipeline.fit(X_train, y_train_h1n1)\n",
    "pred_h1n1 = h1n1_pipeline.predict_proba(X_eval)\n",
    "\n",
    "seasonal_pipeline.fit(X_train, y_train_seasonal)\n",
    "pred_seasonal = seasonal_pipeline.predict_proba(X_eval)\n",
    "\n",
    "print(f\"h1n1 score: {h1n1_pipeline.score(X_eval, y_eval_h1n1):.3}\")\n",
    "print(f\"sesonal score: {seasonal_pipeline.score(X_eval, y_eval_seasonal):.3}\")\n",
    "\n",
    "# Output:\n",
    "# with LogisticRegression(random_state = 0)\n",
    "# h1n1 score: 0.823\n",
    "# seasonal score: 0.716\n",
    "#\n",
    "# ... plus some warnings that the algorithm did not converge: increase max_iter ..."
   ]
  },
  {
   "cell_type": "code",
   "execution_count": 58,
   "metadata": {},
   "outputs": [
    {
     "data": {
      "image/png": "[encoded data removed]",
      "text/plain": [
       "<Figure size 504x252 with 2 Axes>"
      ]
     },
     "metadata": {
      "needs_background": "light"
     },
     "output_type": "display_data"
    }
   ],
   "source": [
    "y_preds = pd.DataFrame(\n",
    "    {\n",
    "        \"h1n1_vaccine\": pred_h1n1[:,1],\n",
    "        \"seasonal_vaccine\": pred_seasonal[:,1],\n",
    "    },\n",
    "    index=y_eval.index\n",
    ")\n",
    "\n",
    "plot_roc_h1n1_and_seasonal()"
   ]
  },
  {
   "cell_type": "code",
   "execution_count": 59,
   "metadata": {},
   "outputs": [
    {
     "data": {
      "text/plain": [
       "0.8405316604217232"
      ]
     },
     "execution_count": 59,
     "metadata": {},
     "output_type": "execute_result"
    }
   ],
   "source": [
    "# COMPETITION METRIC:\n",
    "roc_auc_score(y_eval, y_preds)"
   ]
  },
  {
   "cell_type": "code",
   "execution_count": 60,
   "metadata": {},
   "outputs": [],
   "source": [
    "# try accurately the same with a multiOutputClassifier:\n",
    "\n",
    "multi_estimator = MultiOutputClassifier(estimator=LogisticRegression(random_state=42 ,penalty=\"l2\", C=1))\n",
    "multi_pipeline = Pipeline([\n",
    "    (\"full_columnTransformer\", full_columnTransformer),\n",
    "    (\"multi_estimator\", multi_estimator)\n",
    "])"
   ]
  },
  {
   "cell_type": "code",
   "execution_count": 61,
   "metadata": {},
   "outputs": [
    {
     "name": "stderr",
     "output_type": "stream",
     "text": [
      "c:\\Users\\Hal9\\anaconda3\\envs\\condaPytorchEnv\\lib\\site-packages\\sklearn\\linear_model\\_logistic.py:814: ConvergenceWarning: lbfgs failed to converge (status=1):\n",
      "STOP: TOTAL NO. of ITERATIONS REACHED LIMIT.\n",
      "\n",
      "Increase the number of iterations (max_iter) or scale the data as shown in:\n",
      "    https://scikit-learn.org/stable/modules/preprocessing.html\n",
      "Please also refer to the documentation for alternative solver options:\n",
      "    https://scikit-learn.org/stable/modules/linear_model.html#logistic-regression\n",
      "  n_iter_i = _check_optimize_result(\n",
      "c:\\Users\\Hal9\\anaconda3\\envs\\condaPytorchEnv\\lib\\site-packages\\sklearn\\linear_model\\_logistic.py:814: ConvergenceWarning: lbfgs failed to converge (status=1):\n",
      "STOP: TOTAL NO. of ITERATIONS REACHED LIMIT.\n",
      "\n",
      "Increase the number of iterations (max_iter) or scale the data as shown in:\n",
      "    https://scikit-learn.org/stable/modules/preprocessing.html\n",
      "Please also refer to the documentation for alternative solver options:\n",
      "    https://scikit-learn.org/stable/modules/linear_model.html#logistic-regression\n",
      "  n_iter_i = _check_optimize_result(\n"
     ]
    },
    {
     "data": {
      "image/png": "[encoded data removed]",
      "text/plain": [
       "<Figure size 504x252 with 2 Axes>"
      ]
     },
     "metadata": {
      "needs_background": "light"
     },
     "output_type": "display_data"
    }
   ],
   "source": [
    "multi_pipeline.fit(X_train, y_train)\n",
    "multi_preds = multi_pipeline.predict_proba(X_eval)\n",
    "\n",
    "y_preds = pd.DataFrame(\n",
    "    {\n",
    "        \"h1n1_vaccine\": multi_preds[0][:,1],\n",
    "        \"seasonal_vaccine\": multi_preds[1][:,1],\n",
    "    },\n",
    "    index=y_eval.index\n",
    ")\n",
    "\n",
    "plot_roc_h1n1_and_seasonal()"
   ]
  },
  {
   "cell_type": "markdown",
   "metadata": {},
   "source": [
    "#### Summary: including the categorial columns does not improve the logistic regression classifier. ####"
   ]
  },
  {
   "cell_type": "markdown",
   "metadata": {},
   "source": [
    "### Support Vector Machine ###"
   ]
  },
  {
   "cell_type": "code",
   "execution_count": 9,
   "metadata": {},
   "outputs": [],
   "source": [
    "# train test split:\n",
    "RANDOM_SEED = 42\n",
    "\n",
    "# output types are numpy.ndarray:\n",
    "#X_train_np, X_test_np, y_train_np, y_test_np = train_test_split(X_train_df.iloc[:,1:].to_numpy(), y_train_df.iloc[:,1:].to_numpy(), test_size=0.2, shuffle=True)\n",
    "\n",
    "# output types are pandas dataframes:\n",
    "X_train, X_eval, y_train, y_eval = train_test_split(X_train_df, y_train_df, test_size=0.33, shuffle=True, stratify=y_train_df, random_state=RANDOM_SEED)\n"
   ]
  },
  {
   "cell_type": "code",
   "execution_count": 10,
   "metadata": {},
   "outputs": [
    {
     "name": "stdout",
     "output_type": "stream",
     "text": [
      "Shape of y_train_h1n1: (17893,)\n",
      "Shape of y_train_seasonal: (17893,)\n",
      "Shape of y_eval_h1n1: (8814,)\n",
      "Shape of y_eval_seasonal: (8814,)\n"
     ]
    }
   ],
   "source": [
    "# prepare the labels for the two predictions we have to make:\n",
    "\n",
    "y_train_h1n1 = y_train.values[:,0].ravel()\n",
    "y_train_seasonal = y_train.values[:,1].ravel()\n",
    "y_eval_h1n1 = y_eval.values[:,0].ravel()\n",
    "y_eval_seasonal = y_eval.values[:,1].ravel()\n",
    "\n",
    "for s, a in zip([\"y_train_h1n1\", \"y_train_seasonal\", \"y_eval_h1n1\", \"y_eval_seasonal\"], [y_train_h1n1, y_train_seasonal, y_eval_h1n1, y_eval_seasonal]):\n",
    "    print(f\"Shape of {s}: {a.shape}\")"
   ]
  },
  {
   "cell_type": "code",
   "execution_count": 11,
   "metadata": {},
   "outputs": [],
   "source": [
    "# numeric columns for svm:\n",
    "\n",
    "num_cols = X_train_df.columns[X_train_df.dtypes != 'object'].values\n",
    "\n",
    "numeric_preprocessing_pipeline = Pipeline([\n",
    "    (\"standard_scaler\", StandardScaler()),\n",
    "    (\"simple_imputer\", SimpleImputer(strategy=\"median\"))\n",
    "])\n",
    "\n",
    "preprocessor = ColumnTransformer(\n",
    "    transformers = [\n",
    "        (\"numeric\", numeric_preprocessing_pipeline, num_cols)\n",
    "    ],\n",
    "    remainder=\"drop\"\n",
    ")\n",
    "\n",
    "multi_estimator_SVC= MultiOutputClassifier(estimator=SVC(kernel=\"rbf\", gamma=5, C=0.01, probability=True))\n",
    "\n",
    "full_pipeline = Pipeline([\n",
    "    (\"preprocessor\", preprocessor),\n",
    "    (\"multi_estimator_SVC\", multi_estimator_SVC),\n",
    "])"
   ]
  },
  {
   "cell_type": "code",
   "execution_count": 170,
   "metadata": {},
   "outputs": [],
   "source": [
    "full_pipeline.fit(X_train, y_train)\n",
    "preds = full_pipeline.predict_proba(X_eval)"
   ]
  },
  {
   "cell_type": "code",
   "execution_count": 171,
   "metadata": {},
   "outputs": [
    {
     "data": {
      "image/png": "[encoded data removed]",
      "text/plain": [
       "<Figure size 504x252 with 2 Axes>"
      ]
     },
     "metadata": {
      "needs_background": "light"
     },
     "output_type": "display_data"
    }
   ],
   "source": [
    "y_preds = pd.DataFrame(\n",
    "    {\n",
    "        \"h1n1_vaccine\": preds[0][:,1],\n",
    "        \"seasonal_vaccine\": preds[1][:,1],\n",
    "    },\n",
    "    index=y_eval.index\n",
    ")\n",
    "\n",
    "plot_roc_h1n1_and_seasonal()"
   ]
  },
  {
   "cell_type": "code",
   "execution_count": null,
   "metadata": {},
   "outputs": [],
   "source": [
    "from sklearn.svm import LinearSVC\n",
    "\n",
    "svm_clf_h1n1 = LinearSVC(loss=\"hinge\", C=1)\n",
    "svm_clf_h1n1.fit(X_train, y_train_h1n1)\n",
    "y_preds_h1n1 = svm_clf_h1n1.predict(X_eval)\n",
    "h1n1_acc = accuracy_score(y_true=y_eval_h1n1, y_pred=y_preds_h1n1)\n",
    "print(f\"h1n1 accuracy: {h1n1_acc:.3}\")\n",
    "\n",
    "svm_clf_seasonal = LinearSVC(loss=\"hinge\", C=1)\n",
    "svm_clf_seasonal.fit(X_train, y_train_seasonal)\n",
    "y_preds_seasonal = svm_clf_seasonal.predict(X_eval)\n",
    "seasonal_acc = accuracy_score(y_pred=y_preds_seasonal, y_true=y_eval_seasonal)\n",
    "print(f\"sesonal accuracy: {seasonal_acc:.3}\")\n",
    "\n",
    "# out:\n",
    "# with LinearSVC(loss=\"hinge\", C=1):\n",
    "# time: 0.2s\n",
    "# h1n1 accuracy: 0.791\n",
    "# sesonal accuracy: 0.692"
   ]
  },
  {
   "cell_type": "code",
   "execution_count": 12,
   "metadata": {},
   "outputs": [
    {
     "name": "stdout",
     "output_type": "stream",
     "text": [
      "17893 17893\n"
     ]
    }
   ],
   "source": [
    "print(len(X_train), len( y_train_h1n1))"
   ]
  },
  {
   "cell_type": "code",
   "execution_count": 13,
   "metadata": {},
   "outputs": [],
   "source": [
    "# two svm's with preprocessing pipeline:\n",
    "\n",
    "svm_clf_h1n1 = SVC(kernel=\"rbf\", gamma=5, C=0.01, probability=True)\n",
    "h1n1_pipeline = Pipeline([\n",
    "    (\"preprocessor\", preprocessor),\n",
    "    (\"svm_clf_h1n1\", svm_clf_h1n1),\n",
    "])\n",
    "\n",
    "svm_clf_seasonal = SVC(kernel=\"rbf\", gamma=5, C=0.01, probability=True)\n",
    "seasonal_pipeline = Pipeline([\n",
    "    (\"preprocessor\", preprocessor),\n",
    "    (\"svm_clf_seasonal\" ,svm_clf_seasonal)\n",
    "])\n",
    "\n",
    "h1n1_pipeline.fit(X_train, y_train_h1n1)\n",
    "pred_h1n1 = h1n1_pipeline.predict_proba(X_eval)\n",
    "\n",
    "seasonal_pipeline.fit(X_train, y_train_seasonal)\n",
    "pred_seasonal = seasonal_pipeline.predict_proba(X_eval)"
   ]
  },
  {
   "cell_type": "code",
   "execution_count": 17,
   "metadata": {},
   "outputs": [
    {
     "data": {
      "image/png": "[encoded data removed]",
      "text/plain": [
       "<Figure size 504x252 with 2 Axes>"
      ]
     },
     "metadata": {
      "needs_background": "light"
     },
     "output_type": "display_data"
    }
   ],
   "source": [
    "y_preds = pd.DataFrame(\n",
    "    {\n",
    "        \"h1n1_vaccine\": pred_h1n1[:,1],\n",
    "        \"seasonal_vaccine\": pred_seasonal[:,1],\n",
    "    },\n",
    "    index=y_eval.index\n",
    ")\n",
    "\n",
    "plot_roc_h1n1_and_seasonal()"
   ]
  },
  {
   "cell_type": "markdown",
   "metadata": {},
   "source": [
    "### Decision Tree ###"
   ]
  },
  {
   "cell_type": "code",
   "execution_count": 137,
   "metadata": {},
   "outputs": [
    {
     "name": "stdout",
     "output_type": "stream",
     "text": [
      "Average h1n1 cross-validation score: 0.758\n",
      "Average sesonal cross-validation score: 0.681\n"
     ]
    }
   ],
   "source": [
    "from sklearn.tree import DecisionTreeClassifier\n",
    "from sklearn.model_selection import cross_val_score\n",
    "import numpy as np\n",
    "\n",
    "random_seed = 0\n",
    "h1n1_clf = DecisionTreeClassifier(random_state=random_seed)\n",
    "h1n1_scores = cross_val_score(h1n1_clf, X_train, y_train_h1n1, cv=10)\n",
    "print(f\"Average h1n1 cross-validation score: {np.average(h1n1_scores):.3}\")\n",
    "\n",
    "seasonal_clf = DecisionTreeClassifier(random_state=random_seed)\n",
    "seasonal_scores = cross_val_score(seasonal_clf, X_train, y_train_seasonal)\n",
    "print(f\"Average sesonal cross-validation score: {np.average(seasonal_scores):.3}\")\n",
    "\n",
    "# out:\n",
    "# with: cross_val_score(..., cv=10)\n",
    "# time: 1.9s\n",
    "# Average h1n1 cross-validation score: 0.742\n",
    "# Average sesonal cross-validation score: 0.617"
   ]
  },
  {
   "cell_type": "markdown",
   "metadata": {},
   "source": [
    "### Random Forrest - Using Numerical Only ###"
   ]
  },
  {
   "cell_type": "code",
   "execution_count": 25,
   "metadata": {},
   "outputs": [],
   "source": [
    "# train test split:\n",
    "RANDOM_SEED = 42\n",
    "\n",
    "# output types are numpy.ndarray:\n",
    "#X_train_np, X_test_np, y_train_np, y_test_np = train_test_split(X_train_df.iloc[:,1:].to_numpy(), y_train_df.iloc[:,1:].to_numpy(), test_size=0.2, shuffle=True)\n",
    "\n",
    "# output types are pandas dataframes:\n",
    "X_train, X_eval, y_train, y_eval = train_test_split(X_train_df, y_train_df, test_size=0.33, shuffle=True, stratify=y_train_df, random_state=RANDOM_SEED)\n"
   ]
  },
  {
   "cell_type": "code",
   "execution_count": 26,
   "metadata": {},
   "outputs": [
    {
     "name": "stdout",
     "output_type": "stream",
     "text": [
      "['h1n1_concern' 'h1n1_knowledge' 'behavioral_antiviral_meds'\n",
      " 'behavioral_avoidance' 'behavioral_face_mask' 'behavioral_wash_hands'\n",
      " 'behavioral_large_gatherings' 'behavioral_outside_home'\n",
      " 'behavioral_touch_face' 'doctor_recc_h1n1' 'doctor_recc_seasonal'\n",
      " 'chronic_med_condition' 'child_under_6_months' 'health_worker'\n",
      " 'health_insurance' 'opinion_h1n1_vacc_effective' 'opinion_h1n1_risk'\n",
      " 'opinion_h1n1_sick_from_vacc' 'opinion_seas_vacc_effective'\n",
      " 'opinion_seas_risk' 'opinion_seas_sick_from_vacc' 'household_adults'\n",
      " 'household_children']\n"
     ]
    }
   ],
   "source": [
    "from sklearn.ensemble import RandomForestClassifier\n",
    "\n",
    "max_depth = 10\n",
    "n_estimators = 200\n",
    "\n",
    "rdfc = RandomForestClassifier(max_depth=max_depth, random_state=0, n_estimators=n_estimators)\n",
    "\n",
    "# numeric columns for regression:\n",
    "\n",
    "num_cols = X_train_df.columns[X_train_df.dtypes != 'object'].values\n",
    "print(num_cols)\n",
    "\n",
    "numeric_preprocessing_pipeline = Pipeline([\n",
    "    (\"simple_imputer\", SimpleImputer(strategy=\"median\"))\n",
    "])\n",
    "\n",
    "preprocessor = ColumnTransformer(\n",
    "    transformers = [\n",
    "        (\"numeric\", numeric_preprocessing_pipeline, num_cols)\n",
    "    ],\n",
    "    remainder=\"drop\"\n",
    ")\n",
    "\n",
    "multi_estimator_rdf= MultiOutputClassifier(estimator=rdfc)\n",
    "\n",
    "full_pipeline = Pipeline([\n",
    "    (\"preprocessor\", preprocessor),\n",
    "    (\"multi_estimator_rdf\", multi_estimator_rdf),\n",
    "])"
   ]
  },
  {
   "cell_type": "code",
   "execution_count": 27,
   "metadata": {},
   "outputs": [],
   "source": [
    "full_pipeline.fit(X_train, y_train)\n",
    "preds = full_pipeline.predict_proba(X_eval)"
   ]
  },
  {
   "cell_type": "code",
   "execution_count": 28,
   "metadata": {},
   "outputs": [
    {
     "data": {
      "image/png": "[encoded data removed]",
      "text/plain": [
       "<Figure size 504x252 with 2 Axes>"
      ]
     },
     "metadata": {
      "needs_background": "light"
     },
     "output_type": "display_data"
    }
   ],
   "source": [
    "y_preds = pd.DataFrame(\n",
    "    {\n",
    "        \"h1n1_vaccine\": preds[0][:,1],\n",
    "        \"seasonal_vaccine\": preds[1][:,1],\n",
    "    },\n",
    "    index=y_eval.index\n",
    ")\n",
    "\n",
    "plot_roc_h1n1_and_seasonal()"
   ]
  },
  {
   "cell_type": "code",
   "execution_count": 29,
   "metadata": {},
   "outputs": [
    {
     "data": {
      "text/plain": [
       "0.8364909226136257"
      ]
     },
     "execution_count": 29,
     "metadata": {},
     "output_type": "execute_result"
    }
   ],
   "source": [
    "# COMPETITION METRIC:\n",
    "roc_auc_score(y_eval, y_preds)"
   ]
  },
  {
   "cell_type": "code",
   "execution_count": 30,
   "metadata": {},
   "outputs": [
    {
     "data": {
      "text/plain": [
       "Pipeline(steps=[('preprocessor',\n",
       "                 ColumnTransformer(transformers=[('numeric',\n",
       "                                                  Pipeline(steps=[('simple_imputer',\n",
       "                                                                   SimpleImputer(strategy='median'))]),\n",
       "                                                  array(['h1n1_concern', 'h1n1_knowledge', 'behavioral_antiviral_meds',\n",
       "       'behavioral_avoidance', 'behavioral_face_mask',\n",
       "       'behavioral_wash_hands', 'behavioral_large_gatherings',\n",
       "       'behavioral_outside_home', 'behavioral_...\n",
       "       'health_insurance', 'opinion_h1n1_vacc_effective',\n",
       "       'opinion_h1n1_risk', 'opinion_h1n1_sick_from_vacc',\n",
       "       'opinion_seas_vacc_effective', 'opinion_seas_risk',\n",
       "       'opinion_seas_sick_from_vacc', 'household_adults',\n",
       "       'household_children'], dtype=object))])),\n",
       "                ('multi_estimator_rdf',\n",
       "                 MultiOutputClassifier(estimator=RandomForestClassifier(max_depth=10,\n",
       "                                                                        n_estimators=200,\n",
       "                                                                        random_state=0)))])"
      ]
     },
     "execution_count": 30,
     "metadata": {},
     "output_type": "execute_result"
    }
   ],
   "source": [
    "# training on full dataset:\n",
    "full_pipeline.fit(X_train_df, y_train_df)"
   ]
  },
  {
   "cell_type": "code",
   "execution_count": 32,
   "metadata": {},
   "outputs": [],
   "source": [
    "test_preds = full_pipeline.predict_proba(X_test_df)"
   ]
  },
  {
   "cell_type": "code",
   "execution_count": 33,
   "metadata": {},
   "outputs": [],
   "source": [
    "submission_df = pd.read_csv(\"submission_format.csv\", index_col=\"respondent_id\")"
   ]
  },
  {
   "cell_type": "code",
   "execution_count": 34,
   "metadata": {},
   "outputs": [
    {
     "data": {
      "text/html": [
       "<div>\n",
       "<style scoped>\n",
       "    .dataframe tbody tr th:only-of-type {\n",
       "        vertical-align: middle;\n",
       "    }\n",
       "\n",
       "    .dataframe tbody tr th {\n",
       "        vertical-align: top;\n",
       "    }\n",
       "\n",
       "    .dataframe thead th {\n",
       "        text-align: right;\n",
       "    }\n",
       "</style>\n",
       "<table border=\"1\" class=\"dataframe\">\n",
       "  <thead>\n",
       "    <tr style=\"text-align: right;\">\n",
       "      <th></th>\n",
       "      <th>h1n1_vaccine</th>\n",
       "      <th>seasonal_vaccine</th>\n",
       "    </tr>\n",
       "    <tr>\n",
       "      <th>respondent_id</th>\n",
       "      <th></th>\n",
       "      <th></th>\n",
       "    </tr>\n",
       "  </thead>\n",
       "  <tbody>\n",
       "    <tr>\n",
       "      <th>26707</th>\n",
       "      <td>0.169968</td>\n",
       "      <td>0.423442</td>\n",
       "    </tr>\n",
       "    <tr>\n",
       "      <th>26708</th>\n",
       "      <td>0.043840</td>\n",
       "      <td>0.060612</td>\n",
       "    </tr>\n",
       "    <tr>\n",
       "      <th>26709</th>\n",
       "      <td>0.370553</td>\n",
       "      <td>0.683098</td>\n",
       "    </tr>\n",
       "    <tr>\n",
       "      <th>26710</th>\n",
       "      <td>0.531894</td>\n",
       "      <td>0.786743</td>\n",
       "    </tr>\n",
       "    <tr>\n",
       "      <th>26711</th>\n",
       "      <td>0.293207</td>\n",
       "      <td>0.565102</td>\n",
       "    </tr>\n",
       "  </tbody>\n",
       "</table>\n",
       "</div>"
      ],
      "text/plain": [
       "               h1n1_vaccine  seasonal_vaccine\n",
       "respondent_id                                \n",
       "26707              0.169968          0.423442\n",
       "26708              0.043840          0.060612\n",
       "26709              0.370553          0.683098\n",
       "26710              0.531894          0.786743\n",
       "26711              0.293207          0.565102"
      ]
     },
     "execution_count": 34,
     "metadata": {},
     "output_type": "execute_result"
    }
   ],
   "source": [
    "np.testing.assert_array_equal(submission_df.index.values, X_test_df.index.values)\n",
    "submission_df[\"h1n1_vaccine\"]=test_preds[0][:,1]\n",
    "submission_df[\"seasonal_vaccine\"]=test_preds[1][:,1]\n",
    "\n",
    "submission_df.head(5)"
   ]
  },
  {
   "cell_type": "code",
   "execution_count": 35,
   "metadata": {},
   "outputs": [],
   "source": [
    "submission_df.to_csv(\"my_submission.csv\", index=True)"
   ]
  },
  {
   "cell_type": "markdown",
   "metadata": {},
   "source": [
    "### Random Forrest - Using all Columns ###"
   ]
  },
  {
   "cell_type": "code",
   "execution_count": 13,
   "metadata": {},
   "outputs": [],
   "source": [
    "# impute missing values, scale numeric values, one-hot-encode non-numeric values:\n",
    "\n",
    "from sklearn.preprocessing import OneHotEncoder\n",
    "from sklearn.ensemble import RandomForestClassifier\n",
    "\n",
    "numeric_columns = X_train_df.columns[X_train_df.dtypes != \"object\"]\n",
    "non_numeric_columns = X_train_df.columns[X_train_df.dtypes == \"object\"]\n",
    "max_depth = 10\n",
    "n_estimators = 400\n",
    "rdfc = RandomForestClassifier(max_depth=max_depth, random_state=0, n_estimators=n_estimators)\n",
    "multi_rdfc = MultiOutputClassifier(estimator=rdfc)\n",
    "\n",
    "numeric_preprocessing_pipeline = Pipeline([\n",
    "    (\"SimpleImputer\", SimpleImputer(strategy=\"median\"))\n",
    "])\n",
    "\n",
    "full_columnTransformer = ColumnTransformer(\n",
    "    transformers= [\n",
    "        (\"numeric_preprocessing\", numeric_preprocessing_pipeline, numeric_columns),\n",
    "        (\"ohe\", OneHotEncoder(), non_numeric_columns)\n",
    "    ],\n",
    "    remainder=\"passthrough\"\n",
    ")\n",
    "\n",
    "full_pipeline = Pipeline([\n",
    "    (\"ColumnTransformer\", full_columnTransformer),\n",
    "    (\"MultiEstimator\", multi_rdfc)\n",
    "])"
   ]
  },
  {
   "cell_type": "code",
   "execution_count": 14,
   "metadata": {},
   "outputs": [],
   "source": [
    "from sklearn.model_selection import train_test_split\n",
    "\n",
    "X_train, X_eval, y_train, y_eval = train_test_split(X_train_df, y_train_df, test_size= 0.3, random_state=42, shuffle=True)"
   ]
  },
  {
   "cell_type": "code",
   "execution_count": 15,
   "metadata": {},
   "outputs": [],
   "source": [
    "full_pipeline.fit(X_train, y_train)\n",
    "preds = full_pipeline.predict_proba(X_eval)"
   ]
  },
  {
   "cell_type": "code",
   "execution_count": 16,
   "metadata": {},
   "outputs": [
    {
     "data": {
      "image/png": "[encoded data removed]",
      "text/plain": [
       "<Figure size 504x252 with 2 Axes>"
      ]
     },
     "metadata": {
      "needs_background": "light"
     },
     "output_type": "display_data"
    }
   ],
   "source": [
    "y_preds = pd.DataFrame(\n",
    "    {\n",
    "        \"h1n1_vaccine\": preds[0][:,1],\n",
    "        \"seasonal_vaccine\": preds[1][:,1],\n",
    "    },\n",
    "    index=y_eval.index\n",
    ")\n",
    "\n",
    "plot_roc_h1n1_and_seasonal()"
   ]
  },
  {
   "cell_type": "code",
   "execution_count": 17,
   "metadata": {},
   "outputs": [
    {
     "data": {
      "text/plain": [
       "0.8420648614001554"
      ]
     },
     "execution_count": 17,
     "metadata": {},
     "output_type": "execute_result"
    }
   ],
   "source": [
    "roc_auc_score( y_eval, y_preds)"
   ]
  },
  {
   "cell_type": "code",
   "execution_count": 48,
   "metadata": {},
   "outputs": [
    {
     "data": {
      "text/html": [
       "<div>\n",
       "<style scoped>\n",
       "    .dataframe tbody tr th:only-of-type {\n",
       "        vertical-align: middle;\n",
       "    }\n",
       "\n",
       "    .dataframe tbody tr th {\n",
       "        vertical-align: top;\n",
       "    }\n",
       "\n",
       "    .dataframe thead th {\n",
       "        text-align: right;\n",
       "    }\n",
       "</style>\n",
       "<table border=\"1\" class=\"dataframe\">\n",
       "  <thead>\n",
       "    <tr style=\"text-align: right;\">\n",
       "      <th></th>\n",
       "      <th>h1n1_vaccine</th>\n",
       "      <th>seasonal_vaccine</th>\n",
       "    </tr>\n",
       "    <tr>\n",
       "      <th>respondent_id</th>\n",
       "      <th></th>\n",
       "      <th></th>\n",
       "    </tr>\n",
       "  </thead>\n",
       "  <tbody>\n",
       "    <tr>\n",
       "      <th>26707</th>\n",
       "      <td>0.175011</td>\n",
       "      <td>0.367039</td>\n",
       "    </tr>\n",
       "    <tr>\n",
       "      <th>26708</th>\n",
       "      <td>0.054028</td>\n",
       "      <td>0.087831</td>\n",
       "    </tr>\n",
       "    <tr>\n",
       "      <th>26709</th>\n",
       "      <td>0.404191</td>\n",
       "      <td>0.710595</td>\n",
       "    </tr>\n",
       "    <tr>\n",
       "      <th>26710</th>\n",
       "      <td>0.412015</td>\n",
       "      <td>0.789349</td>\n",
       "    </tr>\n",
       "    <tr>\n",
       "      <th>26711</th>\n",
       "      <td>0.265773</td>\n",
       "      <td>0.511174</td>\n",
       "    </tr>\n",
       "  </tbody>\n",
       "</table>\n",
       "</div>"
      ],
      "text/plain": [
       "               h1n1_vaccine  seasonal_vaccine\n",
       "respondent_id                                \n",
       "26707              0.175011          0.367039\n",
       "26708              0.054028          0.087831\n",
       "26709              0.404191          0.710595\n",
       "26710              0.412015          0.789349\n",
       "26711              0.265773          0.511174"
      ]
     },
     "execution_count": 48,
     "metadata": {},
     "output_type": "execute_result"
    }
   ],
   "source": [
    "# train with full dataset and prepare to save:\n",
    "\n",
    "full_pipeline.fit(X_train_df, y_train_df)\n",
    "\n",
    "test_preds = full_pipeline.predict_proba(X_test_df)\n",
    "\n",
    "submission_df = pd.read_csv(\"submission_format.csv\", index_col=\"respondent_id\")\n",
    "np.testing.assert_array_equal(submission_df.index.values, X_test_df.index.values)\n",
    "\n",
    "submission_df[\"h1n1_vaccine\"]=test_preds[0][:,1]\n",
    "submission_df[\"seasonal_vaccine\"]=test_preds[1][:,1]\n",
    "\n",
    "submission_df.head(5)"
   ]
  },
  {
   "cell_type": "code",
   "execution_count": 49,
   "metadata": {},
   "outputs": [],
   "source": [
    "# save to \"my_submission\" file:\n",
    "\n",
    "my_submission_file = \"my_submission.csv\"\n",
    "submission_df.to_csv(my_submission_file, index=True)"
   ]
  }
 ],
 "metadata": {
  "kernelspec": {
   "display_name": "Python 3.10.4 ('condaPytorchEnv')",
   "language": "python",
   "name": "python3"
  },
  "language_info": {
   "codemirror_mode": {
    "name": "ipython",
    "version": 3
   },
   "file_extension": ".py",
   "mimetype": "text/x-python",
   "name": "python",
   "nbconvert_exporter": "python",
   "pygments_lexer": "ipython3",
   "version": "3.10.4"
  },
  "orig_nbformat": 4,
  "vscode": {
   "interpreter": {
    "hash": "df61620949cb14e55b843831dad5e2bfed0f7347786fc0c0d43a7e8bd69fd61c"
   }
  }
 },
 "nbformat": 4,
 "nbformat_minor": 2
}
