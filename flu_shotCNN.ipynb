{
 "cells": [
  {
   "cell_type": "markdown",
   "metadata": {},
   "source": []
  },
  {
   "cell_type": "code",
   "execution_count": 1,
   "metadata": {},
   "outputs": [],
   "source": [
    "import pandas as pd\n",
    "\n",
    "# read the csv-files:\n",
    "\n",
    "X_train_df = pd.read_csv(\"training_set_features.csv\")\n",
    "y_train_df = pd.read_csv(\"training_set_labels.csv\")\n",
    "X_test_df = pd.read_csv(\"test_set_features.csv\")\n",
    "\n",
    "#X_train_df.shape\n",
    "# Output:\n",
    "# (26707, 36)\n",
    "\n",
    "#X_test_df.shape\n",
    "# out:\n",
    "# (26708, 36)"
   ]
  },
  {
   "cell_type": "code",
   "execution_count": 2,
   "metadata": {},
   "outputs": [],
   "source": [
    "# onehot encoding categorical columns:\n",
    "\n",
    "categorial_columns = [\"h1n1_concern\", \"h1n1_knowledge\", \"opinion_h1n1_vacc_effective\", \"opinion_h1n1_risk\", \"opinion_h1n1_sick_from_vacc\",\n",
    "\"opinion_seas_vacc_effective\", \"opinion_seas_risk\", \"opinion_seas_sick_from_vacc\", \"age_group\", \"education\", \"race\", \"sex\", \"income_poverty\", \"marital_status\",\n",
    "\"rent_or_own\", \"employment_status\", \"hhs_geo_region\", \"census_msa\", \"household_adults\", \"household_children\", \"employment_industry\", \"employment_occupation\"]\n",
    "\n",
    "binary_columns = [\"h1n1_concern\", \"h1n1_knowledge\", \"behavioral_antiviral_meds\", \"behavioral_avoidance\", \"behavioral_face_mask\", \"behavioral_wash_hands\", \n",
    "\"behavioral_large_gatherings\", \"behavioral_outside_home\", \"behavioral_touch_face\", \"doctor_recc_h1n1\", \"doctor_recc_seasonal\",\t\"chronic_med_condition\",\n",
    "\"child_under_6_months\",\t\"health_worker\", \"health_insurance\"]\n",
    "\n"
   ]
  },
  {
   "cell_type": "code",
   "execution_count": 3,
   "metadata": {},
   "outputs": [],
   "source": [
    "# fill missing values with 0 for all binary columns:\n",
    "\n",
    "X_train_df[binary_columns] = X_train_df[binary_columns].fillna(0)\n",
    "X_test_df[binary_columns] = X_test_df[binary_columns].fillna(0)"
   ]
  },
  {
   "cell_type": "code",
   "execution_count": 4,
   "metadata": {},
   "outputs": [],
   "source": [
    "# categorial one-hot-encoding with drop first and dummy-variable for missing values:\n",
    "\n",
    "X_train_df = pd.concat([X_train_df, pd.get_dummies(X_train_df[categorial_columns], drop_first=True, dummy_na=True)], axis=1)\n",
    "X_train_df.drop(categorial_columns, axis=1, inplace=True)\n",
    "\n",
    "X_test_df = pd.concat([X_test_df, pd.get_dummies(X_test_df[categorial_columns], drop_first=True, dummy_na=True)], axis=1)\n",
    "X_test_df.drop(categorial_columns, axis=1, inplace=True)\n"
   ]
  },
  {
   "cell_type": "code",
   "execution_count": 7,
   "metadata": {},
   "outputs": [],
   "source": [
    "# train test split:\n",
    "from sklearn.model_selection import train_test_split\n",
    "\n",
    "X_train_np, X_test_np, y_train_np, y_test_np = train_test_split(X_train_df.iloc[:,1:].to_numpy(), y_train_df.iloc[:,1:].to_numpy(), test_size=0.2, shuffle=True)\n",
    "\n",
    "# output types are numpy.ndarray"
   ]
  },
  {
   "cell_type": "code",
   "execution_count": 8,
   "metadata": {},
   "outputs": [
    {
     "name": "stdout",
     "output_type": "stream",
     "text": [
      "Shape of y_train_h1n1: (21365,)\n",
      "Shape of y_train_seasonal: (21365,)\n",
      "Shape of y_test_h1n1: (5342,)\n",
      "Shape of y_test_seasonal: (5342,)\n"
     ]
    }
   ],
   "source": [
    "# prepare the labels for the two predictions we have to make:\n",
    "\n",
    "y_train_h1n1 = y_train_np[:,:1].ravel()\n",
    "y_train_seasonal = y_train_np[:,1:].ravel()\n",
    "y_test_h1n1 = y_test_np[:,:1].ravel()\n",
    "y_test_seasonal = y_test_np[:,1:].ravel()\n",
    "\n",
    "for s, a in zip([\"y_train_h1n1\", \"y_train_seasonal\", \"y_test_h1n1\", \"y_test_seasonal\"], [y_train_h1n1, y_train_seasonal, y_test_h1n1, y_test_seasonal]):\n",
    "    print(f\"Shape of {s}: {a.shape}\")"
   ]
  },
  {
   "cell_type": "code",
   "execution_count": 40,
   "metadata": {},
   "outputs": [
    {
     "data": {
      "text/plain": [
       "tensor([0., 0., 0., 0.])"
      ]
     },
     "execution_count": 40,
     "metadata": {},
     "output_type": "execute_result"
    }
   ],
   "source": [
    "# map the two-valued y's to 4 one-hot encoded classes:\n",
    "# y = 0 ,0 -> class = 1,0,0,0 \"not vaccinated\"\n",
    "# 1, 0 -> 0,1,0,0 \"only seasonal\"\n",
    "# 0, 1 -> 0,0,1,0 \"only h1n1\"\n",
    "# 1, 1 -> 0,0,0,1 \"seasonal and h1n1\"\n",
    "\n",
    "import torch\n",
    "import torch.nn.functional as F\n",
    "\n",
    "def multiLable2OneHot(l):\n",
    "    if l == [0,0]:\n",
    "        return torch.Tensor([0,0,0,0])\n",
    "    if l == [0,1]:\n",
    "        return torch.Tensor([0,1,0,0])\n",
    "    if l == [1,0]:\n",
    "        return torch.Tensor([0,0,1,0])\n",
    "    if l == [1,1]:\n",
    "        return torch.Tensor([0,0,0,1])\n",
    "\n",
    "# test\n",
    "#multiLable2OneHot([0,0])\n",
    "#out:\n",
    "# tensor([0., 0., 0., 0.])"
   ]
  },
  {
   "cell_type": "markdown",
   "metadata": {},
   "source": [
    "### CNN ###\n",
    "Pad the (1, 95) feature vectors to (1, 100) and reshape to a 10 x 10 image..."
   ]
  },
  {
   "cell_type": "code",
   "execution_count": 9,
   "metadata": {},
   "outputs": [
    {
     "data": {
      "text/plain": [
       "array([[0., 0., 0., 0., 0., 0., 1., 1., 1., 1.],\n",
       "       [1., 1., 1., 1., 1., 0., 0., 1., 0., 0.],\n",
       "       [0., 1., 0., 0., 1., 0., 0., 0., 0., 1.],\n",
       "       [0., 0., 0., 1., 0., 0., 0., 0., 1., 0.],\n",
       "       [0., 0., 0., 0., 0., 0., 0., 0., 1., 0.],\n",
       "       [0., 0., 0., 0., 1., 0., 0., 0., 0., 0.],\n",
       "       [0., 0., 0., 0., 0., 0., 0., 0., 0., 0.],\n",
       "       [0., 1., 0., 0., 0., 0., 0., 0., 0., 0.],\n",
       "       [0., 0., 0., 0., 0., 0., 0., 0., 0., 0.],\n",
       "       [0., 0., 0., 0., 0., 0., 0., 1., 0., 0.]])"
      ]
     },
     "execution_count": 9,
     "metadata": {},
     "output_type": "execute_result"
    }
   ],
   "source": [
    "import numpy as np\n",
    "\n",
    "pre_pad = np.zeros((X_train_np.shape[0], 5))\n",
    "X_train_pad = np.concatenate((pre_pad, X_train_np), axis=1)\n",
    "X_train_imgs = np.reshape(X_train_pad, (X_train_pad.shape[0],10,10))\n",
    "#X_train_imgs.shape\n",
    "X_train_imgs[0,:,:]"
   ]
  },
  {
   "cell_type": "code",
   "execution_count": null,
   "metadata": {},
   "outputs": [],
   "source": [
    "import torch.nn as nn\n",
    "import torch.nn.functional as F\n",
    "\n",
    "class fluNet(nn.Module):\n",
    "    def __init__(self):\n",
    "        super(fluNet, self).__init__()\n",
    "        self.conv1 = nn.Conv2d(1,16,kernel_size=3,padding=1)\n",
    "        self.act1 = nn.ReLU()\n",
    "        self.pool1 = nn.MaxPool2d(2)\n",
    "        self.conv2 = nn.Conv2d(16, 8, kernel_size=3, padding=1)\n",
    "        self.act2 = nn.ReLU()\n",
    "        self.pool2 = nn.MaxPool2d(2)\n",
    "        self.fc1 = nn.Linear(32, 16)\n",
    "        self.act3 = nn.ReLU()\n",
    "        self.fc2 = nn.Linear(16, 1)\n",
    "    \n",
    "    def forward(self, x):\n",
    "        x = self.pool1(self.act1(self.conv1(x)))\n",
    "        x = self.pool2(self.act2(self.conv2(x)))\n",
    "        x = torch.flatten(x)\n",
    "        x = self.act3(self.fc1(x))\n",
    "        x = self.fc2(x)\n",
    "        p = F.log_softmax(x, dim=0)\n",
    "        return p\n",
    "\n"
   ]
  },
  {
   "cell_type": "code",
   "execution_count": null,
   "metadata": {},
   "outputs": [],
   "source": [
    "import torch\n",
    "\n",
    "#X = torch.rand(1, 1, 10, 10)\n",
    "#print(f\" X.shape: {X.shape}\")\n",
    "\n",
    "flu_clf = fluNet()\n",
    "#print(flu_clf)\n",
    "flu_clf(torch.Tensor(img0))"
   ]
  }
 ],
 "metadata": {
  "interpreter": {
   "hash": "9ee9e56fd4d49e3ff65ef8bd933edccd114721c95ff605d39e8f8a8284bbb618"
  },
  "kernelspec": {
   "display_name": "Python 3.9.7 ('conda_tabularData')",
   "language": "python",
   "name": "python3"
  },
  "language_info": {
   "codemirror_mode": {
    "name": "ipython",
    "version": 3
   },
   "file_extension": ".py",
   "mimetype": "text/x-python",
   "name": "python",
   "nbconvert_exporter": "python",
   "pygments_lexer": "ipython3",
   "version": "3.9.7"
  },
  "orig_nbformat": 4
 },
 "nbformat": 4,
 "nbformat_minor": 2
}
