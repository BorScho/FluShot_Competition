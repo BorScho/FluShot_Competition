{
 "cells": [
  {
   "cell_type": "code",
   "execution_count": 1,
   "metadata": {},
   "outputs": [
    {
     "name": "stderr",
     "output_type": "stream",
     "text": [
      "c:\\Users\\Hal9\\anaconda3\\envs\\condaPytorchEnv\\lib\\site-packages\\xgboost\\compat.py:36: FutureWarning: pandas.Int64Index is deprecated and will be removed from pandas in a future version. Use pandas.Index with the appropriate dtype instead.\n",
      "  from pandas import MultiIndex, Int64Index\n"
     ]
    }
   ],
   "source": [
    "import xgboost as xgb\n",
    "from xgboost import XGBClassifier \n",
    "import pandas as pd\n",
    "import numpy as np\n",
    "from sklearn.preprocessing import StandardScaler, OneHotEncoder\n",
    "from sklearn.impute import SimpleImputer\n",
    "from sklearn.compose import ColumnTransformer\n",
    "\n",
    "from sklearn.linear_model import LogisticRegression\n",
    "from sklearn.multioutput import MultiOutputClassifier\n",
    "\n",
    "from sklearn.pipeline import Pipeline\n",
    "\n",
    "from sklearn.model_selection import train_test_split\n",
    "from sklearn.metrics import roc_curve, roc_auc_score, auc\n",
    "\n",
    "from sklearn.svm import SVC\n",
    "\n",
    "%matplotlib inline\n",
    "import matplotlib.pyplot as plt\n",
    "from sklearn.metrics import accuracy_score"
   ]
  },
  {
   "cell_type": "markdown",
   "metadata": {},
   "source": [
    "### Usefull Functions ###"
   ]
  },
  {
   "cell_type": "code",
   "execution_count": 2,
   "metadata": {},
   "outputs": [],
   "source": [
    "def plot_roc(y_true, y_score, label_name, ax):\n",
    "    fpr, tpr, thresholds = roc_curve(y_true, y_score)\n",
    "    ax.plot(fpr, tpr)\n",
    "    ax.plot([0,1],[0,1], color=\"grey\", linestyle=\"--\")\n",
    "    ax.set_ylabel(\"TPR\")\n",
    "    ax.set_xlabel(\"FPR\")\n",
    "    ax.set_title(f\"{label_name}: AUC = {roc_auc_score(y_true, y_score):.4f}\")"
   ]
  },
  {
   "cell_type": "code",
   "execution_count": 3,
   "metadata": {},
   "outputs": [],
   "source": [
    "def true_preds(preds, index_df):\n",
    "    result =  pd.DataFrame(\n",
    "        {\n",
    "            \"h1n1_vaccine\": preds[0][:,1],\n",
    "            \"seasonal_vaccine\": preds[1][:,1],\n",
    "        },\n",
    "        index=index_df\n",
    "    )\n",
    "    return result"
   ]
  },
  {
   "cell_type": "code",
   "execution_count": 4,
   "metadata": {},
   "outputs": [],
   "source": [
    "def plot_roc_h1n1_and_seasonal(y_eval, y_preds):\n",
    "    fig, ax = plt.subplots(1,2,figsize=(7, 3.5))\n",
    "\n",
    "    plot_roc(\n",
    "        y_eval[\"h1n1_vaccine\"],\n",
    "        y_preds[\"h1n1_vaccine\"],\n",
    "        \"h1n1_vaccine\",\n",
    "        ax=ax[0]\n",
    "    )\n",
    "\n",
    "    plot_roc(\n",
    "        y_eval[\"seasonal_vaccine\"],\n",
    "        y_preds[\"seasonal_vaccine\"],\n",
    "        \"seasonal_vaccine\",\n",
    "        ax=ax[1]\n",
    "    )\n",
    "\n",
    "    fig.tight_layout()"
   ]
  },
  {
   "cell_type": "code",
   "execution_count": 40,
   "metadata": {},
   "outputs": [],
   "source": [
    "def train_fullset_and_save(estimator, X_test_df, X_train_df, y_train_df,submission_data_filepath):\n",
    "    submission_df = pd.read_csv(\"submission_format.csv\", index_col=\"respondent_id\")\n",
    "    np.testing.assert_array_equal(submission_df.index.values, X_test_df.index.values)\n",
    "    \n",
    "    estimator.fit(X_train_df, y_train_df)\n",
    "    test_preds = estimator.predict_proba(X_test_df)\n",
    "\n",
    "    submission_df[\"h1n1_vaccine\"]=test_preds[0][:,1]\n",
    "    submission_df[\"seasonal_vaccine\"]=test_preds[1][:,1]\n",
    "    \n",
    "    submission_df.to_csv(submission_data_filepath, index=True)"
   ]
  },
  {
   "cell_type": "markdown",
   "metadata": {},
   "source": [
    "### Read Data, Train-Eval-Split ###"
   ]
  },
  {
   "cell_type": "code",
   "execution_count": 5,
   "metadata": {},
   "outputs": [
    {
     "data": {
      "text/plain": [
       "((26707, 35), (26708, 35))"
      ]
     },
     "execution_count": 5,
     "metadata": {},
     "output_type": "execute_result"
    }
   ],
   "source": [
    "# read the csv-files and take the respondent_id column as index:\n",
    "\n",
    "X_train_df = pd.read_csv(\"training_set_features.csv\", index_col=\"respondent_id\")\n",
    "y_train_df = pd.read_csv(\"training_set_labels.csv\", index_col=\"respondent_id\")\n",
    "X_test_df = pd.read_csv(\"test_set_features.csv\", index_col=\"respondent_id\")\n",
    "\n",
    "X_train_df.shape, X_test_df.shape\n",
    "# Output:\n",
    "# ((26707, 36), (26708, 36))\n"
   ]
  },
  {
   "cell_type": "code",
   "execution_count": 6,
   "metadata": {},
   "outputs": [],
   "source": [
    "random_seed = 11\n",
    "test_size = 0.2\n",
    "X_train, X_eval, y_train, y_eval = train_test_split(X_train_df, y_train_df, test_size=test_size, random_state=random_seed)"
   ]
  },
  {
   "cell_type": "markdown",
   "metadata": {},
   "source": [
    "### Data Preprocessing with Category Encoding ###"
   ]
  },
  {
   "cell_type": "markdown",
   "metadata": {},
   "source": [
    "#### Category Encoding ####"
   ]
  },
  {
   "cell_type": "code",
   "execution_count": 7,
   "metadata": {},
   "outputs": [],
   "source": [
    "# transform the two independent binary labels to a categorial output:\n",
    "\n",
    "label_number_to_categories = { 0: \"not vaccinated\", 1: \"only seasonal\", 2 : \"only h1n1\", 3 : \"seasonal and h1n1\"}\n",
    "label_number_to_multilabel = { 0: [0,0], 1: [0,1], 2 : [1,0], 3 : [1,1] }\n",
    "\n",
    "def multiLableTocategory(l):\n",
    "    if np.array_equal(l, [0,0]):\n",
    "        return 0\n",
    "    if np.array_equal(l,[0,1]):\n",
    "        return 1\n",
    "    if np.array_equal(l, [1,0]):\n",
    "        return 2\n",
    "    if np.array_equal(l, [1,1]):\n",
    "        return 3\n",
    "\n",
    "y_train_cat = [ multiLableTocategory(yt) for yt in y_train.values]\n",
    "y_eval_cat = [multiLableTocategory(yt) for yt in y_eval.values]"
   ]
  },
  {
   "cell_type": "markdown",
   "metadata": {},
   "source": [
    "#### Preprocessing Pipeline ####"
   ]
  },
  {
   "cell_type": "code",
   "execution_count": 8,
   "metadata": {},
   "outputs": [],
   "source": [
    "num_cols = X_train_df.columns[X_train_df.dtypes != \"object\"].values\n",
    "non_numeric_columns = X_train_df.columns[X_train_df.dtypes == \"object\"].values"
   ]
  },
  {
   "cell_type": "code",
   "execution_count": 9,
   "metadata": {},
   "outputs": [],
   "source": [
    "# prepro pipeline:\n",
    "\n",
    "from sklearn.model_selection import GridSearchCV\n",
    "\n",
    "\n",
    "numeric_preprocessing_pipeline = Pipeline([\n",
    "    (\"simple_imputer\", SimpleImputer(strategy=\"constant\", fill_value=np.NaN))\n",
    "])\n",
    "\n",
    "\n",
    "# column transformer with only numerical columns:\n",
    "\n",
    "preprocessor = ColumnTransformer(\n",
    "    transformers = [\n",
    "        (\"numeric\", numeric_preprocessing_pipeline, num_cols),\n",
    "        (\"ohe_num\", OneHotEncoder(), num_cols),\n",
    "        (\"ohe_non_num\", OneHotEncoder(), non_numeric_columns)\n",
    "    ],\n",
    "    remainder=\"drop\"\n",
    ")\n"
   ]
  },
  {
   "cell_type": "markdown",
   "metadata": {},
   "source": [
    "## GridSearchCV on Multiclass-Output XGBClassifier ##"
   ]
  },
  {
   "cell_type": "markdown",
   "metadata": {},
   "source": [
    "##### Choose one of the Parametrizations for the XGBoost Classifier #####"
   ]
  },
  {
   "cell_type": "code",
   "execution_count": 23,
   "metadata": {},
   "outputs": [],
   "source": [
    "params = {\n",
    "  'colsample_bynode': 0.8,\n",
    "  'learning_rate': 1,\n",
    "  'max_depth': 5,\n",
    "  'num_parallel_tree': 100,\n",
    "  'objective': 'binary:logistic',\n",
    "  'subsample': 0.8,\n",
    "  'tree_method': 'gpu_hist'\n",
    "}"
   ]
  },
  {
   "cell_type": "code",
   "execution_count": null,
   "metadata": {},
   "outputs": [],
   "source": []
  },
  {
   "cell_type": "markdown",
   "metadata": {},
   "source": [
    "#### GridSearchCV ####"
   ]
  },
  {
   "cell_type": "code",
   "execution_count": 42,
   "metadata": {},
   "outputs": [],
   "source": [
    "gridcv_params = {\n",
    "    \"max_depth\": [2, 4, 10 ],\n",
    "    \"n_estimators\": [100, 200, 500],\n",
    "    \"eval_metric\": [\"auc\"]\n",
    "\n",
    "}"
   ]
  },
  {
   "cell_type": "code",
   "execution_count": 43,
   "metadata": {},
   "outputs": [],
   "source": [
    "\n",
    "xgb_clf = XGBClassifier(use_label_encoder=False, )\n",
    "\n",
    "gs_clf = GridSearchCV(\n",
    "        xgb_clf, \n",
    "        gridcv_params,\n",
    "    )\n",
    "\n",
    "gs_pipeline = Pipeline([\n",
    "    (\"preprocessor\", preprocessor),\n",
    "    (\"gs_clf\", gs_clf),\n",
    "])\n"
   ]
  },
  {
   "cell_type": "code",
   "execution_count": 44,
   "metadata": {},
   "outputs": [
    {
     "data": {
      "text/plain": [
       "Pipeline(steps=[('preprocessor',\n",
       "                 ColumnTransformer(transformers=[('numeric',\n",
       "                                                  Pipeline(steps=[('simple_imputer',\n",
       "                                                                   SimpleImputer(fill_value=nan,\n",
       "                                                                                 strategy='constant'))]),\n",
       "                                                  array(['h1n1_concern', 'h1n1_knowledge', 'behavioral_antiviral_meds',\n",
       "       'behavioral_avoidance', 'behavioral_face_mask',\n",
       "       'behavioral_wash_hands', 'behavioral_large_gatherings',\n",
       "       'behavioral_outside_h...\n",
       "                                                      missing=nan,\n",
       "                                                      monotone_constraints=None,\n",
       "                                                      n_estimators=100,\n",
       "                                                      n_jobs=None,\n",
       "                                                      num_parallel_tree=None,\n",
       "                                                      predictor=None,\n",
       "                                                      random_state=None,\n",
       "                                                      reg_alpha=None,\n",
       "                                                      reg_lambda=None,\n",
       "                                                      scale_pos_weight=None,\n",
       "                                                      subsample=None,\n",
       "                                                      tree_method=None,\n",
       "                                                      use_label_encoder=False,\n",
       "                                                      validate_parameters=None,\n",
       "                                                      verbosity=None),\n",
       "                              param_grid={'eval_metric': ['auc'],\n",
       "                                          'max_depth': [2, 4, 10],\n",
       "                                          'n_estimators': [100, 200, 500]}))])"
      ]
     },
     "execution_count": 44,
     "metadata": {},
     "output_type": "execute_result"
    }
   ],
   "source": [
    "# training on a four-class output:\n",
    "\n",
    "gs_pipeline.fit(X_train, y_train_cat)"
   ]
  },
  {
   "cell_type": "code",
   "execution_count": 45,
   "metadata": {},
   "outputs": [
    {
     "name": "stdout",
     "output_type": "stream",
     "text": [
      "{'eval_metric': 'auc', 'max_depth': 2, 'n_estimators': 100}\n"
     ]
    }
   ],
   "source": [
    "best_params = gs_pipeline[\"gs_clf\"].best_params_\n",
    "print(best_params)"
   ]
  },
  {
   "cell_type": "markdown",
   "metadata": {},
   "source": [
    "### Prediction and Presentation AUC for Seasonal and H1N1 ###"
   ]
  },
  {
   "cell_type": "code",
   "execution_count": 46,
   "metadata": {},
   "outputs": [],
   "source": [
    "y_preds = gs_pipeline.predict_proba(X_eval)"
   ]
  },
  {
   "cell_type": "code",
   "execution_count": 47,
   "metadata": {},
   "outputs": [
    {
     "data": {
      "text/plain": [
       "array([0.554499  , 0.3208511 , 0.04370911, 0.08094081], dtype=float32)"
      ]
     },
     "execution_count": 47,
     "metadata": {},
     "output_type": "execute_result"
    }
   ],
   "source": [
    "# probabilities for the four categories:\n",
    "y_preds[0]"
   ]
  },
  {
   "cell_type": "code",
   "execution_count": 48,
   "metadata": {},
   "outputs": [],
   "source": [
    "# for this task we assume, that h1n1- and seasonal-vaccination are predicted independently, i.e. the case of both vaccinations, [1,1] counts for each \n",
    "# single case i.e. [0,1] and [1,0]:\n",
    "\n",
    "y_pred_proba_seasonal = y_preds[:,1] + y_preds[:, 3]\n",
    "y_pred_proba_h1n1 = y_preds[:,2] + y_preds[:,3]"
   ]
  },
  {
   "cell_type": "code",
   "execution_count": 21,
   "metadata": {},
   "outputs": [
    {
     "data": {
      "text/html": [
       "<div>\n",
       "<style scoped>\n",
       "    .dataframe tbody tr th:only-of-type {\n",
       "        vertical-align: middle;\n",
       "    }\n",
       "\n",
       "    .dataframe tbody tr th {\n",
       "        vertical-align: top;\n",
       "    }\n",
       "\n",
       "    .dataframe thead th {\n",
       "        text-align: right;\n",
       "    }\n",
       "</style>\n",
       "<table border=\"1\" class=\"dataframe\">\n",
       "  <thead>\n",
       "    <tr style=\"text-align: right;\">\n",
       "      <th></th>\n",
       "      <th>h1n1_vaccine</th>\n",
       "      <th>seasonal_vaccine</th>\n",
       "    </tr>\n",
       "    <tr>\n",
       "      <th>respondent_id</th>\n",
       "      <th></th>\n",
       "      <th></th>\n",
       "    </tr>\n",
       "  </thead>\n",
       "  <tbody>\n",
       "    <tr>\n",
       "      <th>18682</th>\n",
       "      <td>1</td>\n",
       "      <td>1</td>\n",
       "    </tr>\n",
       "  </tbody>\n",
       "</table>\n",
       "</div>"
      ],
      "text/plain": [
       "               h1n1_vaccine  seasonal_vaccine\n",
       "respondent_id                                \n",
       "18682                     1                 1"
      ]
     },
     "execution_count": 21,
     "metadata": {},
     "output_type": "execute_result"
    }
   ],
   "source": [
    "# peek at data-shapes:\n",
    "y_eval.head(1)"
   ]
  },
  {
   "cell_type": "code",
   "execution_count": 49,
   "metadata": {},
   "outputs": [],
   "source": [
    "y_eval_seasonal = y_eval.values[:,1]\n",
    "y_eval_h1n1 = y_eval.values[:,0]"
   ]
  },
  {
   "cell_type": "code",
   "execution_count": 50,
   "metadata": {},
   "outputs": [
    {
     "data": {
      "text/plain": [
       "(0.8684990250275161, 0.8724147591706047)"
      ]
     },
     "execution_count": 50,
     "metadata": {},
     "output_type": "execute_result"
    }
   ],
   "source": [
    "roc_auc_score(y_eval_seasonal, y_pred_proba_seasonal), roc_auc_score(y_eval_h1n1, y_pred_proba_h1n1)"
   ]
  },
  {
   "cell_type": "code",
   "execution_count": 53,
   "metadata": {},
   "outputs": [
    {
     "data": {
      "text/plain": [
       "xgboost.sklearn.XGBClassifier"
      ]
     },
     "execution_count": 53,
     "metadata": {},
     "output_type": "execute_result"
    }
   ],
   "source": [
    "type()"
   ]
  },
  {
   "cell_type": "code",
   "execution_count": 51,
   "metadata": {},
   "outputs": [
    {
     "data": {
      "image/png": "[encoded data removed]",
      "text/plain": [
       "<Figure size 504x252 with 2 Axes>"
      ]
     },
     "metadata": {
      "needs_background": "light"
     },
     "output_type": "display_data"
    }
   ],
   "source": [
    "fig, ax = plt.subplots(1,2,figsize=(7, 3.5))\n",
    "plot_roc(y_eval_seasonal, y_pred_proba_seasonal, \"Seasonal\", ax=ax[0])\n",
    "plot_roc(y_eval_h1n1, y_pred_proba_h1n1, \"H1N1\", ax=ax[1])\n",
    "fig.tight_layout()"
   ]
  },
  {
   "cell_type": "markdown",
   "metadata": {},
   "source": [
    "### Retraining and Saving the Model ###"
   ]
  },
  {
   "cell_type": "code",
   "execution_count": 57,
   "metadata": {},
   "outputs": [],
   "source": [
    "submission_data_filepath = \"my_submission_multioutput_xgb_clf.csv\"\n",
    "\n",
    "y_train_df_cat = [ multiLableTocategory(yt) for yt in y_train_df.values]\n",
    "gs_pipeline.fit(X_train_df, y_train_df_cat)\n",
    "\n",
    "y_pred_test = gs_pipeline.predict_proba(X_test_df)\n",
    "y_pred_proba_seasonal = y_pred_test[:,1] + y_pred_test[:, 3]\n",
    "y_pred_proba_h1n1 = y_pred_test[:,2] + y_pred_test[:,3]\n",
    "\n",
    "submission_df = pd.read_csv(\"submission_format.csv\", index_col=\"respondent_id\")\n",
    "np.testing.assert_array_equal(submission_df.index.values, X_test_df.index.values)\n",
    "submission_df[\"h1n1_vaccine\"]=y_pred_proba_h1n1\n",
    "submission_df[\"seasonal_vaccine\"]=y_pred_proba_seasonal\n",
    "\n",
    "submission_df.to_csv(submission_data_filepath, index=True)"
   ]
  },
  {
   "cell_type": "markdown",
   "metadata": {},
   "source": [
    "## GridSearchCV on Sklearn's MultiOutputClassifier ##"
   ]
  },
  {
   "cell_type": "markdown",
   "metadata": {},
   "source": [
    "Compare the run-times of this solution, where we use the Sklearn MultiOutputClassifier and apply GridSearchCV to it, with the run-times of the solution above, where we transform the multiclass-labels to four categories, train a pipeline containing a gridsearch:\n",
    "\n",
    "Training: this = 0.8s, above = 1m53,3s\n",
    "\n",
    "Retraining on full set: this = 1.2s , above = 2m20.5s\n",
    "\n",
    "Maybe the gridsearch in the pipeline is time consuming and it should rather be a pipeline in the gridsearch?"
   ]
  },
  {
   "cell_type": "code",
   "execution_count": 58,
   "metadata": {},
   "outputs": [],
   "source": [
    "gridcv_params = {\n",
    "    \"max_depth\": [2, 4, 10 ],\n",
    "    \"n_estimators\": [100, 200, 500],\n",
    "    \"metrics\": [\"auc\"]\n",
    "}"
   ]
  },
  {
   "cell_type": "code",
   "execution_count": 61,
   "metadata": {},
   "outputs": [],
   "source": [
    "# grid-search for the multioutput-classifier as a whole:\n",
    "\n",
    "multixgb_clf = MultiOutputClassifier(xgb_clf)\n",
    "\n",
    "multi_pipeline = Pipeline([\n",
    "    (\"preprocessor\", preprocessor),\n",
    "    (\"multioutput_clf\", multixgb_clf),\n",
    "])\n",
    "\n",
    "gridcv_params = {\n",
    "    \"multioutput_clf__estimator__max_depth\": [2, 4, 10 ],\n",
    "    \"multioutput_clf__estimator__n_estimators\": [100, 200, 500]\n",
    "}\n",
    "\n",
    "gs_clf = GridSearchCV(\n",
    "        multi_pipeline, \n",
    "        gridcv_params,\n",
    "    )"
   ]
  },
  {
   "cell_type": "code",
   "execution_count": 62,
   "metadata": {},
   "outputs": [
    {
     "name": "stdout",
     "output_type": "stream",
     "text": [
      "[18:04:23] WARNING: ..\\src\\learner.cc:1115: Starting in XGBoost 1.3.0, the default evaluation metric used with the objective 'binary:logistic' was changed from 'error' to 'logloss'. Explicitly set eval_metric if you'd like to restore the old behavior.\n",
      "[18:04:24] WARNING: ..\\src\\learner.cc:1115: Starting in XGBoost 1.3.0, the default evaluation metric used with the objective 'binary:logistic' was changed from 'error' to 'logloss'. Explicitly set eval_metric if you'd like to restore the old behavior.\n"
     ]
    },
    {
     "data": {
      "text/plain": [
       "Pipeline(steps=[('preprocessor',\n",
       "                 ColumnTransformer(transformers=[('numeric',\n",
       "                                                  Pipeline(steps=[('simple_imputer',\n",
       "                                                                   SimpleImputer(fill_value=nan,\n",
       "                                                                                 strategy='constant'))]),\n",
       "                                                  array(['h1n1_concern', 'h1n1_knowledge', 'behavioral_antiviral_meds',\n",
       "       'behavioral_avoidance', 'behavioral_face_mask',\n",
       "       'behavioral_wash_hands', 'behavioral_large_gatherings',\n",
       "       'behavioral_outside_h...\n",
       "                                                               learning_rate=None,\n",
       "                                                               max_delta_step=None,\n",
       "                                                               max_depth=None,\n",
       "                                                               min_child_weight=None,\n",
       "                                                               missing=nan,\n",
       "                                                               monotone_constraints=None,\n",
       "                                                               n_estimators=100,\n",
       "                                                               n_jobs=None,\n",
       "                                                               num_parallel_tree=None,\n",
       "                                                               predictor=None,\n",
       "                                                               random_state=None,\n",
       "                                                               reg_alpha=None,\n",
       "                                                               reg_lambda=None,\n",
       "                                                               scale_pos_weight=None,\n",
       "                                                               subsample=None,\n",
       "                                                               tree_method=None,\n",
       "                                                               use_label_encoder=False,\n",
       "                                                               validate_parameters=None,\n",
       "                                                               verbosity=None)))])"
      ]
     },
     "execution_count": 62,
     "metadata": {},
     "output_type": "execute_result"
    }
   ],
   "source": [
    "multi_pipeline.fit(X_train, y_train)"
   ]
  },
  {
   "cell_type": "code",
   "execution_count": 63,
   "metadata": {},
   "outputs": [
    {
     "data": {
      "text/plain": [
       "array([[0.82150555, 0.17849442],\n",
       "       [0.9953822 , 0.00461779],\n",
       "       [0.52202284, 0.47797716],\n",
       "       ...,\n",
       "       [0.96427864, 0.03572139],\n",
       "       [0.5933807 , 0.40661928],\n",
       "       [0.961662  , 0.03833802]], dtype=float32)"
      ]
     },
     "execution_count": 63,
     "metadata": {},
     "output_type": "execute_result"
    }
   ],
   "source": [
    "y_preds = multi_pipeline.predict_proba(X_eval)\n",
    "\n",
    "# probabilities for the two categories:\n",
    "y_preds[0]"
   ]
  },
  {
   "cell_type": "code",
   "execution_count": 64,
   "metadata": {},
   "outputs": [
    {
     "data": {
      "text/html": [
       "<div>\n",
       "<style scoped>\n",
       "    .dataframe tbody tr th:only-of-type {\n",
       "        vertical-align: middle;\n",
       "    }\n",
       "\n",
       "    .dataframe tbody tr th {\n",
       "        vertical-align: top;\n",
       "    }\n",
       "\n",
       "    .dataframe thead th {\n",
       "        text-align: right;\n",
       "    }\n",
       "</style>\n",
       "<table border=\"1\" class=\"dataframe\">\n",
       "  <thead>\n",
       "    <tr style=\"text-align: right;\">\n",
       "      <th></th>\n",
       "      <th>h1n1_vaccine</th>\n",
       "      <th>seasonal_vaccine</th>\n",
       "    </tr>\n",
       "    <tr>\n",
       "      <th>respondent_id</th>\n",
       "      <th></th>\n",
       "      <th></th>\n",
       "    </tr>\n",
       "  </thead>\n",
       "  <tbody>\n",
       "    <tr>\n",
       "      <th>18682</th>\n",
       "      <td>1</td>\n",
       "      <td>1</td>\n",
       "    </tr>\n",
       "  </tbody>\n",
       "</table>\n",
       "</div>"
      ],
      "text/plain": [
       "               h1n1_vaccine  seasonal_vaccine\n",
       "respondent_id                                \n",
       "18682                     1                 1"
      ]
     },
     "execution_count": 64,
     "metadata": {},
     "output_type": "execute_result"
    }
   ],
   "source": [
    "# peek at data-structure:\n",
    "\n",
    "y_eval.head(1)"
   ]
  },
  {
   "cell_type": "code",
   "execution_count": 65,
   "metadata": {},
   "outputs": [],
   "source": [
    "y_preds_true = true_preds(y_preds, y_eval.index)"
   ]
  },
  {
   "cell_type": "code",
   "execution_count": 66,
   "metadata": {},
   "outputs": [
    {
     "data": {
      "image/png": "[encoded data removed]",
      "text/plain": [
       "<Figure size 504x252 with 2 Axes>"
      ]
     },
     "metadata": {
      "needs_background": "light"
     },
     "output_type": "display_data"
    }
   ],
   "source": [
    "plot_roc_h1n1_and_seasonal(y_eval, y_preds_true)"
   ]
  },
  {
   "cell_type": "code",
   "execution_count": 68,
   "metadata": {},
   "outputs": [
    {
     "name": "stdout",
     "output_type": "stream",
     "text": [
      "[18:10:07] WARNING: ..\\src\\learner.cc:1115: Starting in XGBoost 1.3.0, the default evaluation metric used with the objective 'binary:logistic' was changed from 'error' to 'logloss'. Explicitly set eval_metric if you'd like to restore the old behavior.\n",
      "[18:10:08] WARNING: ..\\src\\learner.cc:1115: Starting in XGBoost 1.3.0, the default evaluation metric used with the objective 'binary:logistic' was changed from 'error' to 'logloss'. Explicitly set eval_metric if you'd like to restore the old behavior.\n"
     ]
    }
   ],
   "source": [
    "# save to \"my_submission_file\":\n",
    "\n",
    "my_submission_file = \"my_submission_MultiOutputClassifier_xgboost.csv\"\n",
    "\n",
    "train_fullset_and_save(multi_pipeline, X_test_df, X_train_df, y_train_df, my_submission_file)"
   ]
  },
  {
   "cell_type": "markdown",
   "metadata": {},
   "source": [
    "Documentation of dmlc XGBoost / py-xgboost(?)\n",
    "\n",
    "https://xgboost.readthedocs.io/en/stable/python/python_intro.html#setting-parameters"
   ]
  },
  {
   "cell_type": "code",
   "execution_count": null,
   "metadata": {},
   "outputs": [],
   "source": [
    "xgb_clf.get_params()\n",
    "\n",
    "# output:\n",
    "#{'objective': 'multi:softprob',\n",
    "# 'use_label_encoder': False,\n",
    "# 'base_score': 0.5,\n",
    "# 'booster': 'gbtree',\n",
    "# 'colsample_bylevel': 1,\n",
    "# 'colsample_bynode': 1,\n",
    "# 'colsample_bytree': 1,\n",
    "# 'enable_categorical': False,\n",
    "# 'gamma': 0,\n",
    "# 'gpu_id': -1,\n",
    "# 'importance_type': None,\n",
    "# 'interaction_constraints': '',\n",
    "# 'learning_rate': 0.300000012,\n",
    "# 'max_delta_step': 0,\n",
    "# 'max_depth': 6,\n",
    "# 'min_child_weight': 1,\n",
    "# 'missing': nan,\n",
    "# 'monotone_constraints': '()',\n",
    "# 'n_estimators': 100,\n",
    "# 'n_jobs': 24,\n",
    "# 'num_parallel_tree': 1,\n",
    "# 'predictor': 'auto',\n",
    "# 'random_state': 0,\n",
    "# 'reg_alpha': 0,\n",
    "# 'reg_lambda': 1,\n",
    "# 'scale_pos_weight': None,\n",
    "# 'subsample': 1,\n",
    "# 'tree_method': 'exact',\n",
    "# 'validate_parameters': 1,\n",
    "# 'verbosity': None}"
   ]
  }
 ],
 "metadata": {
  "kernelspec": {
   "display_name": "Python 3.10.4 ('condaPytorchEnv')",
   "language": "python",
   "name": "python3"
  },
  "language_info": {
   "codemirror_mode": {
    "name": "ipython",
    "version": 3
   },
   "file_extension": ".py",
   "mimetype": "text/x-python",
   "name": "python",
   "nbconvert_exporter": "python",
   "pygments_lexer": "ipython3",
   "version": "3.10.4"
  },
  "orig_nbformat": 4,
  "vscode": {
   "interpreter": {
    "hash": "df61620949cb14e55b843831dad5e2bfed0f7347786fc0c0d43a7e8bd69fd61c"
   }
  }
 },
 "nbformat": 4,
 "nbformat_minor": 2
}
